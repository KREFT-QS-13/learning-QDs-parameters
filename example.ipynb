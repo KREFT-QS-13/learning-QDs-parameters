{
 "cells": [
  {
   "cell_type": "code",
   "execution_count": 1,
   "metadata": {},
   "outputs": [],
   "source": [
    "import sys\n",
    "sys.path.append('./qdarts')\n",
    "\n",
    "from qdarts.experiment import Experiment\n",
    "from qdarts.plotting import plot_polytopes\n",
    "\n",
    "import numpy as np\n",
    "import math\n",
    "import matplotlib.pyplot as plt\n",
    "import matplotlib.gridspec as gridspec\n",
    "\n",
    "import utilities.config as c\n",
    "import utilities.utils  as u\n",
    "import utilities.model_utils  as mu"
   ]
  },
  {
   "cell_type": "markdown",
   "metadata": {},
   "source": [
    "### Looking at the data"
   ]
  },
  {
   "cell_type": "code",
   "execution_count": 2,
   "metadata": {},
   "outputs": [],
   "source": [
    "# 14\n",
    "# 5121290610\n",
    "# 5099976477\n",
    "# 5091324709"
   ]
  },
  {
   "cell_type": "code",
   "execution_count": 4,
   "metadata": {},
   "outputs": [
    {
     "name": "stdout",
     "output_type": "stream",
     "text": [
      "<PIL.Image.Image image mode=RGBA size=96x96 at 0x21BBC9E28B0>\n",
      "C_DD matrix:\n",
      "[[10.97329776  0.87911179]\n",
      " [ 0.87911179  6.28130508]]\n",
      "\n",
      "C_DG matrix:\n",
      "[[8.92898043 1.16520554]\n",
      " [0.96822458 4.43396871]]\n"
     ]
    },
    {
     "data": {
      "image/png": "[encoded data removed]",
      "text/plain": [
       "<PIL.Image.Image image mode=RGBA size=96x96>"
      ]
     },
     "execution_count": 4,
     "metadata": {},
     "output_type": "execute_result"
    }
   ],
   "source": [
    "u.reconstruct_img_with_matrices(14,'5091324709.png', True)[0]"
   ]
  },
  {
   "cell_type": "markdown",
   "metadata": {},
   "source": [
    "### Data preprocessing"
   ]
  },
  {
   "cell_type": "code",
   "execution_count": null,
   "metadata": {},
   "outputs": [],
   "source": [
    "datapoints = mu.load_datapoints(param_names=['csd', 'C_DD', 'C_DG'])\n",
    "# datapoints = mu.load_datapoints(param_names=['csd', 'C_DD', 'C_DG'], all_batches=False, batches=np.arange(2,8))\n",
    "\n",
    "print(f\"The amount of datapoints loaded: {len(datapoints)}.\")\n",
    "print(f\"The shape of CSD {datapoints[0][0].shape}, and its type {type(datapoints[0][0])}.\")"
   ]
  },
  {
   "cell_type": "markdown",
   "metadata": {},
   "source": [
    "#### Reconstructed image from saved np.ndarray"
   ]
  },
  {
   "cell_type": "code",
   "execution_count": 3,
   "metadata": {},
   "outputs": [],
   "source": [
    "example = datapoints[19] # 67, 19"
   ]
  },
  {
   "cell_type": "code",
   "execution_count": null,
   "metadata": {},
   "outputs": [],
   "source": [
    "example_csd = example[0]\n",
    "u.reconstruct_img_from_tensor(example_csd)"
   ]
  },
  {
   "cell_type": "markdown",
   "metadata": {},
   "source": [
    "#### The preprocessed input seen by the model"
   ]
  },
  {
   "cell_type": "code",
   "execution_count": null,
   "metadata": {},
   "outputs": [],
   "source": [
    "%matplotlib inline\n",
    "\n",
    "tensor = mu.preprocess_csd(example_csd)\n",
    "mu.show_image_from_tensor(tensor)"
   ]
  },
  {
   "cell_type": "markdown",
   "metadata": {},
   "source": [
    "#### Output preproccess"
   ]
  },
  {
   "cell_type": "code",
   "execution_count": null,
   "metadata": {},
   "outputs": [],
   "source": [
    "c_dd, c_dg = example[1], example[2]\n",
    "print(f\"C_DD: \\n {c_dd}\\n\")\n",
    "print(f\"C_DG: \\n {c_dg}\")"
   ]
  },
  {
   "cell_type": "code",
   "execution_count": null,
   "metadata": {},
   "outputs": [],
   "source": [
    "# output -> a vector -> row by row first from C_DD, then C_DG -> K*(K+1)/2 + K^2 (elements)\n",
    "#   \n",
    "output = mu.preprocess_capacitance_matrices(c_dd, c_dg)\n",
    "assert len(output) == c.K*(c.K+1)//2 + c.K**2\n",
    "\n",
    "print(output) "
   ]
  },
  {
   "cell_type": "markdown",
   "metadata": {},
   "source": [
    "#### Filter dataset"
   ]
  },
  {
   "cell_type": "code",
   "execution_count": null,
   "metadata": {},
   "outputs": [],
   "source": [
    "unfiltered_datapoints = datapoints.copy()\n",
    "filtred_datapoints = mu.filter_dataset(datapoints)\n",
    "\n",
    "print(f\"Before filtration: {len(unfiltered_datapoints)}.\\nAfter filtration: {len(filtred_datapoints)} ({100*len(filtred_datapoints)/len(unfiltered_datapoints):.2f}%).\")\n",
    "# datapoints = filtred_datapoints"
   ]
  },
  {
   "cell_type": "markdown",
   "metadata": {},
   "source": [
    "#### Train model"
   ]
  },
  {
   "cell_type": "code",
   "execution_count": null,
   "metadata": {},
   "outputs": [],
   "source": []
  },
  {
   "cell_type": "markdown",
   "metadata": {},
   "source": [
    "### Unit tests"
   ]
  },
  {
   "cell_type": "code",
   "execution_count": 2,
   "metadata": {},
   "outputs": [],
   "source": [
    "c_dd, c_dg = u.generate_capacitance_matrices()\n",
    "output = mu.preprocess_capacitance_matrices(c_dd, c_dg)\n",
    "c_dd_rec, c_dg_rec = mu.reconstruct_capacitance_matrices(output)\n",
    "\n",
    "assert (c_dd == c_dd_rec).all() and (c_dg == c_dg_rec).all()"
   ]
  },
  {
   "cell_type": "code",
   "execution_count": 54,
   "metadata": {},
   "outputs": [
    {
     "name": "stdout",
     "output_type": "stream",
     "text": [
      "0.9666325313529429 [[5.67113297 1.13930947]\n",
      " [0.78004842 6.41334499]]\n"
     ]
    }
   ],
   "source": [
    "# output -> a vector -> row by row first from C_DD, then C_DG -> K*(K+1)/2 + K^2 (elements)outputmupepocess_cpacitance_matricesc_ddc_dg\n",
    "# c_m = 0.5\n",
    "# c_dd = np.array([[3.1, 0.5], [0.5, 2.9]])\n",
    "# np.sum(c_dg, axis=1).T*np.eye(c.K)+c_m\n",
    "\n",
    "c_dd, c_dg = u.generate_capacitance_matrices()\n",
    "c_m =  c_dd[0,1]\n",
    "\n",
    "c_dd_test = np.array([[c_dg[0,0]+c_dg[0,1]+c_m, c_m], [c_m, c_dg[1,0]+c_dg[1,1]+c_m]])\n",
    "\n",
    "if c.K == 2:\n",
    "    assert (c_dd == c_dd_test).all()\n",
    "    assert c_dd[0,1] == c_dd[1,0]"
   ]
  }
 ],
 "metadata": {
  "kernelspec": {
   "display_name": "qdarts",
   "language": "python",
   "name": "python3"
  },
  "language_info": {
   "codemirror_mode": {
    "name": "ipython",
    "version": 3
   },
   "file_extension": ".py",
   "mimetype": "text/x-python",
   "name": "python",
   "nbconvert_exporter": "python",
   "pygments_lexer": "ipython3",
   "version": "3.9.19"
  }
 },
 "nbformat": 4,
 "nbformat_minor": 2
}
