{
 "cells": [
  {
   "cell_type": "code",
   "execution_count": 1,
   "metadata": {},
   "outputs": [
    {
     "data": {
      "text/plain": [
       "<module 'utilities.model_utils' from 'd:\\\\!!!_PDF\\\\Fizyka i matma studia\\\\!!!_Leiden\\\\!! projekty 2024_25\\\\Evert van Niewenburg\\\\potencial projects\\\\Qdarts projects\\\\qdarts_code\\\\learning_parameters\\\\utilities\\\\model_utils.py'>"
      ]
     },
     "execution_count": 1,
     "metadata": {},
     "output_type": "execute_result"
    }
   ],
   "source": [
    "import sys\n",
    "import importlib\n",
    "sys.path.append('./qdarts')\n",
    "\n",
    "from qdarts.experiment import Experiment\n",
    "from qdarts.plotting import plot_polytopes\n",
    "\n",
    "import numpy as np\n",
    "import math\n",
    "import matplotlib.pyplot as plt\n",
    "import matplotlib.gridspec as gridspec\n",
    "\n",
    "import utilities.config as c\n",
    "import utilities.utils  as u\n",
    "import utilities.model_utils  as mu\n",
    "\n",
    "import torch\n",
    "\n",
    "importlib.reload(c)\n",
    "importlib.reload(u)\n",
    "importlib.reload(mu)"
   ]
  },
  {
   "cell_type": "markdown",
   "metadata": {},
   "source": [
    "### Looking at the data"
   ]
  },
  {
   "cell_type": "code",
   "execution_count": null,
   "metadata": {},
   "outputs": [],
   "source": [
    "if c.PATH_0 == './ALICE/':\n",
    "    batch_number = 2\n",
    "    img_number = '0035487789'\n",
    "else:\n",
    "    batch_number = 3\n",
    "    img_number = '0060485230'\n",
    "\n",
    "u.reconstruct_img_with_matrices(batch_number, img_number, True)[0]"
   ]
  },
  {
   "cell_type": "markdown",
   "metadata": {},
   "source": [
    "### Data preprocessing"
   ]
  },
  {
   "cell_type": "code",
   "execution_count": null,
   "metadata": {},
   "outputs": [],
   "source": [
    "# datapoints = mu.load_datapoints(param_names=['csd', 'C_DD', 'C_DG'])\n",
    "datapoints = mu.load_datapoints(param_names=['csd', 'C_DD', 'C_DG'], all_batches=False, batches=np.arange(2,3))\n",
    "\n",
    "print(f\"The amount of datapoints loaded: {len(datapoints)}.\")\n",
    "print(f\"The shape of CSD {datapoints[0][0].shape}, and its type {type(datapoints[0][0])}.\")"
   ]
  },
  {
   "cell_type": "markdown",
   "metadata": {},
   "source": [
    "#### Reconstructed image from saved np.ndarray"
   ]
  },
  {
   "cell_type": "code",
   "execution_count": 8,
   "metadata": {},
   "outputs": [],
   "source": [
    "example = datapoints[19] # 67, 19"
   ]
  },
  {
   "cell_type": "code",
   "execution_count": null,
   "metadata": {},
   "outputs": [],
   "source": [
    "example_csd = example[0]\n",
    "u.reconstruct_img_from_tensor(example_csd)"
   ]
  },
  {
   "cell_type": "markdown",
   "metadata": {},
   "source": [
    "#### The preprocessed input seen by the model"
   ]
  },
  {
   "cell_type": "code",
   "execution_count": null,
   "metadata": {},
   "outputs": [],
   "source": [
    "%matplotlib inline\n",
    "\n",
    "tensor = mu.preprocess_csd(example_csd)\n",
    "mu.show_image_from_tensor(tensor)"
   ]
  },
  {
   "cell_type": "markdown",
   "metadata": {},
   "source": [
    "#### Output preproccess"
   ]
  },
  {
   "cell_type": "code",
   "execution_count": null,
   "metadata": {},
   "outputs": [],
   "source": [
    "c_dd, c_dg = example[1], example[2]\n",
    "print(f\"C_DD: \\n {c_dd}\\n\")\n",
    "print(f\"C_DG: \\n {c_dg}\")"
   ]
  },
  {
   "cell_type": "code",
   "execution_count": null,
   "metadata": {},
   "outputs": [],
   "source": [
    "# output -> a vector -> row by row first from C_DD, then C_DG -> K*(K+1)/2 + K^2 (elements)\n",
    "#   \n",
    "output = mu.preprocess_capacitance_matrices(c_dd, c_dg)\n",
    "assert len(output) == c.K*(c.K+1)//2 + c.K**2\n",
    "\n",
    "print(output) "
   ]
  },
  {
   "cell_type": "markdown",
   "metadata": {},
   "source": [
    "#### Filter dataset"
   ]
  },
  {
   "cell_type": "code",
   "execution_count": null,
   "metadata": {},
   "outputs": [],
   "source": [
    "unfiltered_datapoints = datapoints.copy()\n",
    "filtred_datapoints = mu.filter_dataset(datapoints)\n",
    "\n",
    "print(f\"Before filtration: {len(unfiltered_datapoints)}.\\nAfter filtration: {len(filtred_datapoints)} ({100*len(filtred_datapoints)/len(unfiltered_datapoints):.2f}%).\")\n",
    "# datapoints = filtred_datapoints"
   ]
  },
  {
   "cell_type": "markdown",
   "metadata": {},
   "source": [
    "#### Train model"
   ]
  },
  {
   "cell_type": "code",
   "execution_count": null,
   "metadata": {},
   "outputs": [],
   "source": []
  },
  {
   "cell_type": "markdown",
   "metadata": {},
   "source": [
    "### Unit tests"
   ]
  },
  {
   "cell_type": "code",
   "execution_count": 15,
   "metadata": {},
   "outputs": [],
   "source": [
    "c_dd, c_dg = u.generate_capacitance_matrices()\n",
    "output = mu.preprocess_capacitance_matrices(c_dd, c_dg)\n",
    "c_dd_rec, c_dg_rec = mu.reconstruct_capacitance_matrices(output)\n",
    "\n",
    "assert (c_dd == c_dd_rec).all() and (c_dg == c_dg_rec).all()"
   ]
  },
  {
   "cell_type": "code",
   "execution_count": 16,
   "metadata": {},
   "outputs": [],
   "source": [
    "# output -> a vector -> row by row first from C_DD, then C_DG -> K*(K+1)/2 + K^2 (elements)outputmupepocess_cpacitance_matricesc_ddc_dg\n",
    "# c_m = 0.5\n",
    "# c_dd = np.array([[3.1, 0.5], [0.5, 2.9]])\n",
    "# np.sum(c_dg, axis=1).T*np.eye(c.K)+c_m\n",
    "\n",
    "c_dd, c_dg = u.generate_capacitance_matrices()\n",
    "c_m =  c_dd[0,1]\n",
    "\n",
    "c_dd_test = np.array([[c_dg[0,0]+c_dg[0,1]+c_m, c_m], [c_m, c_dg[1,0]+c_dg[1,1]+c_m]])\n",
    "\n",
    "if c.K == 2:\n",
    "    assert (c_dd == c_dd_test).all()\n",
    "    assert c_dd[0,1] == c_dd[1,0]"
   ]
  },
  {
   "cell_type": "markdown",
   "metadata": {},
   "source": [
    "### XAI"
   ]
  },
  {
   "cell_type": "code",
   "execution_count": null,
   "metadata": {},
   "outputs": [],
   "source": [
    "test = mu.load_datapoints(param_names=['csd', 'C_DD', 'C_DG'], all_batches=False, batches=np.arange(41,42))\n",
    "u.reconstruct_img_from_tensor(test[0][0])"
   ]
  },
  {
   "cell_type": "code",
   "execution_count": null,
   "metadata": {},
   "outputs": [],
   "source": [
    "example_X, example_Y = mu.prepare_data(datasize_cut=1, \n",
    "                                       param_names=['csd', 'C_DD', 'C_DG'], \n",
    "                                       all_batches=False, batches=np.arange(41,42))\n",
    "\n",
    "print(example_X.shape, example_Y.shape)\n",
    "print(example_Y[-1])\n"
   ]
  },
  {
   "cell_type": "code",
   "execution_count": null,
   "metadata": {},
   "outputs": [],
   "source": [
    "saliency_overlay, gradcam_overlay, prediction, reconstructed_matrices= mu.explain_output(\n",
    "    input_tensor=example_X,\n",
    "    model_name='resnet',\n",
    "    model_path='./Results/resnet18/resnet18_model_20241028_104258/resnet18_model.pth')\n",
    "\n",
    "print(prediction)\n",
    "print(reconstructed_matrices)"
   ]
  },
  {
   "cell_type": "code",
   "execution_count": null,
   "metadata": {},
   "outputs": [],
   "source": [
    "np.abs(np.array(example_Y) -  prediction)"
   ]
  },
  {
   "cell_type": "code",
   "execution_count": null,
   "metadata": {},
   "outputs": [],
   "source": [
    "saliency_overlay"
   ]
  },
  {
   "cell_type": "code",
   "execution_count": null,
   "metadata": {},
   "outputs": [],
   "source": [
    "gradcam_overlay"
   ]
  },
  {
   "cell_type": "code",
   "execution_count": null,
   "metadata": {},
   "outputs": [],
   "source": [
    "%matplotlib inline\n",
    "plot, ax = mu.generate_csd_from_prediction(prediction)\n",
    "plot.show()"
   ]
  },
  {
   "cell_type": "markdown",
   "metadata": {},
   "source": [
    "### Noise - test"
   ]
  },
  {
   "cell_type": "code",
   "execution_count": 17,
   "metadata": {},
   "outputs": [
    {
     "name": "stdout",
     "output_type": "stream",
     "text": [
      "K: 3, N: 2, S: 1\n",
      "c.NOISE: True, p_dd: 0.5, p_dg: 0.2\n",
      "K: 3, N: 2, S: 1\n",
      "c.NOISE: True, p_dd: 0.5, p_dg: 0.2\n",
      "True\n",
      "EXPERIMENT INITIALIZED\n",
      "-----------------------\n",
      "\n",
      "                Capacitance model deployed with the following parameters:\n",
      "                Dot-dot capacitances: \n",
      "                [[22.2901  4.1382  1.5608]\n",
      " [ 4.1382 25.1679  2.8187]\n",
      " [ 1.5608  2.8187 17.551 ]]\n",
      "                Dot-gate capacitances: \n",
      "                [[6.4776 1.6553 0.2288]\n",
      " [1.6553 7.3364 0.8958]\n",
      " [0.2288 0.8958 6.6391]]\n",
      "                Size of Coulomb peaks V[n] is constant\n",
      "                \n",
      "\n",
      "            Sensor model deployed with the following parameters:   \n",
      "            Sensor dot indices: [-1]\n",
      "            Sensor detunings: [-20.] meV\n",
      "            Coulomb peak width: 0.68 meV\n",
      "            Slow noise amplitude: 0.0 ueV\n",
      "            Fast noise amplitude: 0.0 ueV\n",
      "            \n",
      "\n",
      "            Tunneling model deployed with the following parameters:\n",
      "            Tunneling matrix:\n",
      "            [[0.     0.0005 0.    ]\n",
      " [0.0005 0.     0.    ]\n",
      " [0.     0.     0.    ]]\n",
      "            Temperature: 0.1 K\n",
      "            Energy range factor: 5\n",
      "            \n",
      "v_offset found: [ 0.00954187 -0.00653536  0.12363214]\n"
     ]
    }
   ],
   "source": [
    "c.NOISE = True\n",
    "\n",
    "x_vol = np.linspace(0, 0.05, c.RESOLUTION)\n",
    "y_vol = np.linspace(0, 0.05, c.RESOLUTION)\n",
    "ks = 0\n",
    "device = np.array([[1,1]])\n",
    "\n",
    "S=1\n",
    "N=len(u.get_dots_indices(device))\n",
    "K=N+S\n",
    "config_tuple = (K,N,S)\n",
    "\n",
    "C_DD, C_DG, ks, cut, x, y, csd, poly, sensor, device = u.generate_dataset(x_vol, y_vol, ks, device, config_tuple)"
   ]
  },
  {
   "cell_type": "code",
   "execution_count": 4,
   "metadata": {},
   "outputs": [
    {
     "data": {
      "text/plain": [
       "array([[2.82255411e-09, 2.86690533e-09, 2.91175319e-09, ...,\n",
       "        1.37565985e-09, 1.38654172e-09, 1.39750816e-09],\n",
       "       [2.83661194e-09, 2.88135671e-09, 2.92661842e-09, ...,\n",
       "        1.39383843e-09, 1.40486160e-09, 1.41597043e-09],\n",
       "       [2.85057301e-09, 2.89569905e-09, 2.94136210e-09, ...,\n",
       "        1.41225302e-09, 1.42341928e-09, 1.43467230e-09],\n",
       "       ...,\n",
       "       [5.51796710e-09, 5.56087161e-09, 5.60410030e-09, ...,\n",
       "        2.40106120e-09, 2.26497095e-09, 2.22383967e-09],\n",
       "       [5.58875543e-09, 5.63220359e-09, 5.67597986e-09, ...,\n",
       "        2.18242513e-09, 2.19082681e-09, 2.20795195e-09],\n",
       "       [5.66043221e-09, 5.70443055e-09, 5.74876128e-09, ...,\n",
       "        2.18389285e-09, 2.20521271e-09, 2.22759597e-09]])"
      ]
     },
     "execution_count": 4,
     "metadata": {},
     "output_type": "execute_result"
    }
   ],
   "source": [
    "sensor"
   ]
  },
  {
   "cell_type": "code",
   "execution_count": 18,
   "metadata": {},
   "outputs": [
    {
     "data": {
      "image/png": "[encoded data removed]",
      "text/plain": [
       "<Figure size 256x256 with 1 Axes>"
      ]
     },
     "metadata": {},
     "output_type": "display_data"
    }
   ],
   "source": [
    "%matplotlib inline\n",
    "fig, ax = u.plot_CSD(x, y, sensor, poly)  "
   ]
  },
  {
   "cell_type": "code",
   "execution_count": 20,
   "metadata": {},
   "outputs": [],
   "source": [
    "assert np.all(np.sum([np.gradient(sensor, axis=i) for i in [0,1]], axis=0) == np.gradient(sensor,axis=0) + np.gradient(sensor,axis=1))"
   ]
  },
  {
   "cell_type": "code",
   "execution_count": 22,
   "metadata": {},
   "outputs": [
    {
     "data": {
      "image/png": "[encoded data removed]",
      "text/plain": [
       "<Figure size 256x256 with 1 Axes>"
      ]
     },
     "metadata": {},
     "output_type": "display_data"
    }
   ],
   "source": [
    "%matplotlib inline\n",
    "plt.figure(figsize=(c.RESOLUTION/c.DPI, c.RESOLUTION/c.DPI), dpi=c.DPI)\n",
    "plt.pcolormesh(np.gradient(sensor,axis=0) + np.gradient(sensor,axis=1))\n",
    "plt.axis('off')\n",
    "plt.tight_layout(pad=0)\n",
    "plt.show()"
   ]
  },
  {
   "cell_type": "code",
   "execution_count": null,
   "metadata": {},
   "outputs": [],
   "source": [
    "u.get_mask(device, (3,2,1))"
   ]
  },
  {
   "cell_type": "markdown",
   "metadata": {},
   "source": [
    "### Device"
   ]
  },
  {
   "cell_type": "code",
   "execution_count": 37,
   "metadata": {},
   "outputs": [
    {
     "name": "stdout",
     "output_type": "stream",
     "text": [
      "[[1 1 0 0 1]] [(600, 0)]\n"
     ]
    }
   ],
   "source": [
    "# device = np.array([[0,1, 0,1,0],[1,0,1,0,1],[0,1,0,1,0]])\n",
    "# device = np.ones((2,2))\n",
    "# device = np.ones((1,3))\n",
    "device = np.array([[1,1,0,0,1]])\n",
    "\n",
    "# r0 = [c.d_DD*np.sqrt(0.5**2+3**2)]\n",
    "# t0 = [np.arctan(3/0.5)]\n",
    "r0 = [6*c.d_DD]\n",
    "t0 = [0]\n",
    "S = len(t0)\n",
    "N = len(u.get_dots_indices(device))\n",
    "K = N+S\n",
    "\n",
    "sensors = u.set_sensors_positions(S, device, list_r0=r0, list_theta0=t0)\n",
    "# sensors = u.set_sensors_positions(S, device)\n",
    "\n",
    "print(device, sensors)"
   ]
  },
  {
   "cell_type": "code",
   "execution_count": 38,
   "metadata": {},
   "outputs": [
    {
     "data": {
      "image/png": "[encoded data removed]",
      "text/plain": [
       "<Figure size 400x400 with 1 Axes>"
      ]
     },
     "metadata": {},
     "output_type": "display_data"
    }
   ],
   "source": [
    "# Example usage:\n",
    "%matplotlib inline\n",
    "fig, ax = u.plot_device_lattice(device, sensors)\n",
    "plt.show()"
   ]
  }
 ],
 "metadata": {
  "kernelspec": {
   "display_name": "qdarts",
   "language": "python",
   "name": "python3"
  },
  "language_info": {
   "codemirror_mode": {
    "name": "ipython",
    "version": 3
   },
   "file_extension": ".py",
   "mimetype": "text/x-python",
   "name": "python",
   "nbconvert_exporter": "python",
   "pygments_lexer": "ipython3",
   "version": "3.9.19"
  }
 },
 "nbformat": 4,
 "nbformat_minor": 2
}
