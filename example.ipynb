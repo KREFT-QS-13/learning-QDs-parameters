{
 "cells": [
  {
   "cell_type": "code",
   "execution_count": 1,
   "metadata": {},
   "outputs": [],
   "source": [
    "import sys\n",
    "sys.path.append('./qdarts')\n",
    "\n",
    "from qdarts.experiment import Experiment\n",
    "from qdarts.plotting import plot_polytopes\n",
    "\n",
    "import numpy as np\n",
    "import math\n",
    "import matplotlib.pyplot as plt\n",
    "import matplotlib.gridspec as gridspec\n",
    "\n",
    "import utilities.config as c\n",
    "import utilities.utils  as u\n",
    "import utilities.model_utils  as mu\n",
    "\n",
    "import torch\n"
   ]
  },
  {
   "cell_type": "markdown",
   "metadata": {},
   "source": [
    "### Looking at the data"
   ]
  },
  {
   "cell_type": "code",
   "execution_count": 6,
   "metadata": {},
   "outputs": [
    {
     "name": "stdout",
     "output_type": "stream",
     "text": [
      "<PIL.Image.Image image mode=RGBA size=96x96 at 0x1A6BE9CE220>\n",
      "C_DD matrix:\n",
      "[[15.79561717  0.8659954 ]\n",
      " [ 0.8659954   9.44310219]]\n",
      "\n",
      "C_DG matrix:\n",
      "[[13.85804455  1.07157722]\n",
      " [ 1.10839793  7.46870886]]\n"
     ]
    },
    {
     "data": {
      "image/png": "[encoded data removed]",
      "text/plain": [
       "<PIL.Image.Image image mode=RGBA size=96x96>"
      ]
     },
     "execution_count": 6,
     "metadata": {},
     "output_type": "execute_result"
    }
   ],
   "source": [
    "if c.PATH_0 == './ALICE/':\n",
    "    batch_number = 2\n",
    "    img_number = '0035487789'\n",
    "else:\n",
    "    batch_number = 3\n",
    "    img_number = '0060485230'\n",
    "\n",
    "u.reconstruct_img_with_matrices(batch_number, img_number, True)[0]"
   ]
  },
  {
   "cell_type": "markdown",
   "metadata": {},
   "source": [
    "### Data preprocessing"
   ]
  },
  {
   "cell_type": "code",
   "execution_count": 7,
   "metadata": {},
   "outputs": [
    {
     "name": "stdout",
     "output_type": "stream",
     "text": [
      "The amount of datapoints loaded: 500.\n",
      "The shape of CSD (4, 96, 96), and its type <class 'numpy.ndarray'>.\n"
     ]
    }
   ],
   "source": [
    "# datapoints = mu.load_datapoints(param_names=['csd', 'C_DD', 'C_DG'])\n",
    "datapoints = mu.load_datapoints(param_names=['csd', 'C_DD', 'C_DG'], all_batches=False, batches=np.arange(2,3))\n",
    "\n",
    "print(f\"The amount of datapoints loaded: {len(datapoints)}.\")\n",
    "print(f\"The shape of CSD {datapoints[0][0].shape}, and its type {type(datapoints[0][0])}.\")"
   ]
  },
  {
   "cell_type": "markdown",
   "metadata": {},
   "source": [
    "#### Reconstructed image from saved np.ndarray"
   ]
  },
  {
   "cell_type": "code",
   "execution_count": 8,
   "metadata": {},
   "outputs": [],
   "source": [
    "example = datapoints[19] # 67, 19"
   ]
  },
  {
   "cell_type": "code",
   "execution_count": 9,
   "metadata": {},
   "outputs": [
    {
     "data": {
      "image/png": "[encoded data removed]",
      "text/plain": [
       "<PIL.Image.Image image mode=RGBA size=96x96>"
      ]
     },
     "execution_count": 9,
     "metadata": {},
     "output_type": "execute_result"
    }
   ],
   "source": [
    "example_csd = example[0]\n",
    "u.reconstruct_img_from_tensor(example_csd)"
   ]
  },
  {
   "cell_type": "markdown",
   "metadata": {},
   "source": [
    "#### The preprocessed input seen by the model"
   ]
  },
  {
   "cell_type": "code",
   "execution_count": 11,
   "metadata": {},
   "outputs": [
    {
     "data": {
      "image/png": "[encoded data removed]",
      "text/plain": [
       "<Figure size 96x96 with 1 Axes>"
      ]
     },
     "metadata": {},
     "output_type": "display_data"
    }
   ],
   "source": [
    "%matplotlib inline\n",
    "\n",
    "tensor = mu.preprocess_csd(example_csd)\n",
    "mu.show_image_from_tensor(tensor)"
   ]
  },
  {
   "cell_type": "markdown",
   "metadata": {},
   "source": [
    "#### Output preproccess"
   ]
  },
  {
   "cell_type": "code",
   "execution_count": 12,
   "metadata": {},
   "outputs": [
    {
     "name": "stdout",
     "output_type": "stream",
     "text": [
      "C_DD: \n",
      " [[12.7310135   0.62502105]\n",
      " [ 0.62502105  7.37619915]]\n",
      "\n",
      "C_DG: \n",
      " [[11.14271642  0.96327603]\n",
      " [ 0.78183667  5.96934143]]\n"
     ]
    }
   ],
   "source": [
    "c_dd, c_dg = example[1], example[2]\n",
    "print(f\"C_DD: \\n {c_dd}\\n\")\n",
    "print(f\"C_DG: \\n {c_dg}\")"
   ]
  },
  {
   "cell_type": "code",
   "execution_count": 13,
   "metadata": {},
   "outputs": [
    {
     "name": "stdout",
     "output_type": "stream",
     "text": [
      "[12.7310135   0.62502105  7.37619915 11.14271642  0.96327603  0.78183667\n",
      "  5.96934143]\n"
     ]
    }
   ],
   "source": [
    "# output -> a vector -> row by row first from C_DD, then C_DG -> K*(K+1)/2 + K^2 (elements)\n",
    "#   \n",
    "output = mu.preprocess_capacitance_matrices(c_dd, c_dg)\n",
    "assert len(output) == c.K*(c.K+1)//2 + c.K**2\n",
    "\n",
    "print(output) "
   ]
  },
  {
   "cell_type": "markdown",
   "metadata": {},
   "source": [
    "#### Filter dataset"
   ]
  },
  {
   "cell_type": "code",
   "execution_count": 14,
   "metadata": {},
   "outputs": [
    {
     "name": "stdout",
     "output_type": "stream",
     "text": [
      "Original dataset size: 500\n",
      "Filtered dataset size: 500\n",
      "Removed 0 datapoints\n",
      "Before filtration: 500.\n",
      "After filtration: 500 (100.00%).\n"
     ]
    }
   ],
   "source": [
    "unfiltered_datapoints = datapoints.copy()\n",
    "filtred_datapoints = mu.filter_dataset(datapoints)\n",
    "\n",
    "print(f\"Before filtration: {len(unfiltered_datapoints)}.\\nAfter filtration: {len(filtred_datapoints)} ({100*len(filtred_datapoints)/len(unfiltered_datapoints):.2f}%).\")\n",
    "# datapoints = filtred_datapoints"
   ]
  },
  {
   "cell_type": "markdown",
   "metadata": {},
   "source": [
    "#### Train model"
   ]
  },
  {
   "cell_type": "code",
   "execution_count": null,
   "metadata": {},
   "outputs": [],
   "source": []
  },
  {
   "cell_type": "markdown",
   "metadata": {},
   "source": [
    "### Unit tests"
   ]
  },
  {
   "cell_type": "code",
   "execution_count": 15,
   "metadata": {},
   "outputs": [],
   "source": [
    "c_dd, c_dg = u.generate_capacitance_matrices()\n",
    "output = mu.preprocess_capacitance_matrices(c_dd, c_dg)\n",
    "c_dd_rec, c_dg_rec = mu.reconstruct_capacitance_matrices(output)\n",
    "\n",
    "assert (c_dd == c_dd_rec).all() and (c_dg == c_dg_rec).all()"
   ]
  },
  {
   "cell_type": "code",
   "execution_count": 16,
   "metadata": {},
   "outputs": [],
   "source": [
    "# output -> a vector -> row by row first from C_DD, then C_DG -> K*(K+1)/2 + K^2 (elements)outputmupepocess_cpacitance_matricesc_ddc_dg\n",
    "# c_m = 0.5\n",
    "# c_dd = np.array([[3.1, 0.5], [0.5, 2.9]])\n",
    "# np.sum(c_dg, axis=1).T*np.eye(c.K)+c_m\n",
    "\n",
    "c_dd, c_dg = u.generate_capacitance_matrices()\n",
    "c_m =  c_dd[0,1]\n",
    "\n",
    "c_dd_test = np.array([[c_dg[0,0]+c_dg[0,1]+c_m, c_m], [c_m, c_dg[1,0]+c_dg[1,1]+c_m]])\n",
    "\n",
    "if c.K == 2:\n",
    "    assert (c_dd == c_dd_test).all()\n",
    "    assert c_dd[0,1] == c_dd[1,0]"
   ]
  },
  {
   "cell_type": "markdown",
   "metadata": {},
   "source": [
    "### XAI"
   ]
  },
  {
   "cell_type": "code",
   "execution_count": 17,
   "metadata": {},
   "outputs": [
    {
     "data": {
      "image/png": "[encoded data removed]",
      "text/plain": [
       "<PIL.Image.Image image mode=RGBA size=96x96>"
      ]
     },
     "execution_count": 17,
     "metadata": {},
     "output_type": "execute_result"
    }
   ],
   "source": [
    "test = mu.load_datapoints(param_names=['csd', 'C_DD', 'C_DG'], all_batches=False, batches=np.arange(41,42))\n",
    "u.reconstruct_img_from_tensor(test[0][0])"
   ]
  },
  {
   "cell_type": "code",
   "execution_count": 18,
   "metadata": {},
   "outputs": [
    {
     "name": "stdout",
     "output_type": "stream",
     "text": [
      "Original dataset size: 500\n",
      "Filtered dataset size: 498\n",
      "Removed 2 datapoints\n",
      "torch.Size([1, 1, 96, 96]) torch.Size([1, 7])\n",
      "tensor([ 9.5008,  0.9605, 10.2671,  7.5104,  1.0300,  1.1970,  8.1096])\n"
     ]
    }
   ],
   "source": [
    "example_X, example_Y = mu.prepare_data(datasize_cut=1, \n",
    "                                       param_names=['csd', 'C_DD', 'C_DG'], \n",
    "                                       all_batches=False, batches=np.arange(41,42))\n",
    "\n",
    "print(example_X.shape, example_Y.shape)\n",
    "print(example_Y[-1])\n"
   ]
  },
  {
   "cell_type": "code",
   "execution_count": 19,
   "metadata": {},
   "outputs": [
    {
     "name": "stderr",
     "output_type": "stream",
     "text": [
      "d:\\!!!_PDF\\Fizyka i matma studia\\!!!_Leiden\\!! projekty 2024_25\\Evert van Niewenburg\\potencial projects\\Qdarts projects\\qdarts_code\\learning_parameters\\utilities\\model_utils.py:818: FutureWarning: You are using `torch.load` with `weights_only=False` (the current default value), which uses the default pickle module implicitly. It is possible to construct malicious pickle data which will execute arbitrary code during unpickling (See https://github.com/pytorch/pytorch/blob/main/SECURITY.md#untrusted-models for more details). In a future release, the default value for `weights_only` will be flipped to `True`. This limits the functions that could be executed during unpickling. Arbitrary objects will no longer be allowed to be loaded via this mode unless they are explicitly allowlisted by the user via `torch.serialization.add_safe_globals`. We recommend you start setting `weights_only=True` for any use case where you don't have full control of the loaded file. Please open an issue on GitHub for any issues related to this experimental feature.\n",
      "  model.load_state_dict(torch.load(model_path, map_location=c.DEVICE))\n"
     ]
    },
    {
     "name": "stdout",
     "output_type": "stream",
     "text": [
      "[ 9.506121   1.0103334 10.276788   7.5013804  1.0104122  1.0225418\n",
      "  8.274339 ]\n",
      "(array([[ 9.50612068,  1.01033342],\n",
      "       [ 1.01033342, 10.27678776]]), array([[7.5013804, 1.0104122],\n",
      "       [1.0225418, 8.274339 ]], dtype=float32))\n"
     ]
    },
    {
     "name": "stderr",
     "output_type": "stream",
     "text": [
      "c:\\Users\\barte\\anaconda3\\envs\\qdarts\\lib\\site-packages\\torch\\nn\\modules\\module.py:1640: FutureWarning: Using a non-full backward hook when the forward contains multiple autograd Nodes is deprecated and will be removed in future versions. This hook will be missing some grad_input. Please use register_full_backward_hook to get the documented behavior.\n",
      "  self._maybe_warn_non_full_backward_hook(args, result, grad_fn)\n"
     ]
    }
   ],
   "source": [
    "saliency_overlay, gradcam_overlay, prediction, reconstructed_matrices= mu.explain_output(\n",
    "    input_tensor=example_X,\n",
    "    model_name='resnet',\n",
    "    model_path='./Results/resnet18/resnet18_model_20241028_104258/resnet18_model.pth')\n",
    "\n",
    "print(prediction)\n",
    "print(reconstructed_matrices)"
   ]
  },
  {
   "cell_type": "code",
   "execution_count": 20,
   "metadata": {},
   "outputs": [
    {
     "data": {
      "text/plain": [
       "array([[0.00528908, 0.04981083, 0.0097084 , 0.00897312, 0.01954317,\n",
       "        0.1744256 , 0.16474915]], dtype=float32)"
      ]
     },
     "execution_count": 20,
     "metadata": {},
     "output_type": "execute_result"
    }
   ],
   "source": [
    "np.abs(np.array(example_Y) -  prediction)"
   ]
  },
  {
   "cell_type": "code",
   "execution_count": 21,
   "metadata": {},
   "outputs": [
    {
     "data": {
      "image/jpeg": "[encoded data removed]",
      "image/png": "[encoded data removed]",
      "text/plain": [
       "<PIL.Image.Image image mode=RGB size=96x96>"
      ]
     },
     "execution_count": 21,
     "metadata": {},
     "output_type": "execute_result"
    }
   ],
   "source": [
    "saliency_overlay"
   ]
  },
  {
   "cell_type": "code",
   "execution_count": 22,
   "metadata": {},
   "outputs": [
    {
     "data": {
      "image/jpeg": "[encoded data removed]",
      "image/png": "[encoded data removed]",
      "text/plain": [
       "<PIL.Image.Image image mode=RGB size=96x96>"
      ]
     },
     "execution_count": 22,
     "metadata": {},
     "output_type": "execute_result"
    }
   ],
   "source": [
    "gradcam_overlay"
   ]
  },
  {
   "cell_type": "code",
   "execution_count": 24,
   "metadata": {},
   "outputs": [
    {
     "name": "stdout",
     "output_type": "stream",
     "text": [
      "EXPERIMENT INITIALIZED\n",
      "-----------------------\n",
      "\n",
      "                Capacitance model deployed with the following parameters:\n",
      "                Dot-dot capacitances: \n",
      "                [[ 9.50612068  1.01033342]\n",
      " [ 1.01033342 10.27678776]]\n",
      "                Dot-gate capacitances: \n",
      "                [[7.5013804 1.0104122]\n",
      " [1.0225418 8.274339 ]]\n",
      "                Size of Coulomb peaks V[n] is constant\n",
      "                \n"
     ]
    },
    {
     "name": "stderr",
     "output_type": "stream",
     "text": [
      "C:\\Users\\barte\\AppData\\Local\\Temp\\ipykernel_36324\\1773095794.py:3: UserWarning: FigureCanvasAgg is non-interactive, and thus cannot be shown\n",
      "  plot.show()\n"
     ]
    },
    {
     "data": {
      "image/png": "[encoded data removed]",
      "text/plain": [
       "<Figure size 96x96 with 1 Axes>"
      ]
     },
     "metadata": {},
     "output_type": "display_data"
    }
   ],
   "source": [
    "%matplotlib inline\n",
    "plot, ax = mu.generate_csd_from_prediction(prediction)\n",
    "plot.show()"
   ]
  },
  {
   "cell_type": "markdown",
   "metadata": {},
   "source": [
    "### Noise - test"
   ]
  },
  {
   "cell_type": "code",
   "execution_count": 2,
   "metadata": {},
   "outputs": [],
   "source": [
    "c.set_global_K(3)"
   ]
  },
  {
   "cell_type": "code",
   "execution_count": 3,
   "metadata": {},
   "outputs": [],
   "source": [
    "C_DD, C_DG = u.generate_capacitance_matrices()\n",
    "tcs = np.zeros((c.K,c.K))\n",
    "# tcs[0,1] = 50*1e-6\n",
    "# tcs[1,0] = 50*1e-6\n",
    "\n",
    "capacitance_config = {\n",
    "        \"C_DD\" : C_DD,  #dot-dot capacitance matrix\n",
    "        \"C_Dg\" : C_DG,  #dot-gate capacitance matrix\n",
    "        \"ks\" : None,       #distortion of Coulomb peaks. NOTE: If None -> constant size of Coublomb peak \n",
    "}\n",
    "\n",
    "tunneling_config = {\n",
    "        \"tunnel_couplings\": tcs, #tunnel coupling matrix\n",
    "        \"temperature\": 0.1,                   #temperature in Kelvin\n",
    "        \"energy_range_factor\": 5,  #energy scale for the Hamiltonian generation. NOTE: Smaller -> faster but less accurate computation \n",
    "}\n",
    "\n",
    "sensor_config = {\n",
    "        \"sensor_dot_indices\": [1],  #Indices of the sensor dots\n",
    "        \"sensor_detunings\": [-0.0005],  #Detuning of the sensor dots\n",
    "        \"noise_amplitude\": {\"fast_noise\": 0.8*1e-6, \"slow_noise\": 1e-8}, #Noise amplitude for the sensor dots in eV\n",
    "        \"peak_width_multiplier\": 15,  #Width of the sensor peaks in the units of thermal broadening m *kB*T/0.61.\n",
    "}\n"
   ]
  },
  {
   "cell_type": "code",
   "execution_count": 4,
   "metadata": {},
   "outputs": [
    {
     "name": "stdout",
     "output_type": "stream",
     "text": [
      "EXPERIMENT INITIALIZED\n",
      "-----------------------\n",
      "\n",
      "                Capacitance model deployed with the following parameters:\n",
      "                Dot-dot capacitances: \n",
      "                [[11.81655272  0.85889783  0.85889783]\n",
      " [ 0.85889783 11.17784802  0.85889783]\n",
      " [ 0.85889783  0.85889783  9.4116185 ]]\n",
      "                Dot-gate capacitances: \n",
      "                [[8.70135598 1.21190253 1.04439638]\n",
      " [0.77253202 8.73935941 0.80705876]\n",
      " [1.00209725 0.79532171 6.7553017 ]]\n",
      "                Size of Coulomb peaks V[n] is constant\n",
      "                \n",
      "\n",
      "            Sensor model deployed with the following parameters:   \n",
      "            Sensor dot indices: [1]\n",
      "            Sensor detunings: [-0.5] meV\n",
      "            Coulomb peak width: 0.41 meV\n",
      "            Slow noise amplitude: 0.01 ueV\n",
      "            Fast noise amplitude: 0.8 ueV\n",
      "            \n",
      "\n",
      "            Tunneling model deployed with the following parameters:\n",
      "            Tunneling matrix:\n",
      "            [[1.e-20 1.e-20 1.e-20]\n",
      " [1.e-20 1.e-20 1.e-20]\n",
      " [1.e-20 1.e-20 1.e-20]]\n",
      "            Temperature: 0.1 K\n",
      "            Energy range factor: 5\n",
      "            \n"
     ]
    }
   ],
   "source": [
    "experiment = Experiment(capacitance_config=capacitance_config, \n",
    "                        tunneling_config=tunneling_config, \n",
    "                        sensor_config=sensor_config)"
   ]
  },
  {
   "cell_type": "code",
   "execution_count": 5,
   "metadata": {},
   "outputs": [
    {
     "name": "stderr",
     "output_type": "stream",
     "text": [
      "d:\\!!!_PDF\\Fizyka i matma studia\\!!!_Leiden\\!! projekty 2024_25\\Evert van Niewenburg\\potencial projects\\Qdarts projects\\qdarts_code\\learning_parameters\\./qdarts\\tunneling_simulator.py:116: RuntimeWarning: invalid value encountered in scalar divide\n",
      "  results[i] = np.sum(p*np.mean(g,axis=1))/np.sum(p)\n"
     ]
    }
   ],
   "source": [
    "xks, yks, csd_dataks, polytopesks, sensor_signalexp, _ = experiment.generate_CSD(\n",
    "                                        x_voltages = np.linspace(0, 0.03, 250),  #V\n",
    "                                        y_voltages = np.linspace(0, 0.03, 250),  #V\n",
    "                                        plane_axes = [[1,0,0], [0,0,1]], #NOTE: with defauls use_virtual_gates = False, this means voltages.\n",
    "                                        compute_polytopes = True,\n",
    "                                        use_virtual_gates = False,\n",
    "                                        use_sensor_signal=True)    "
   ]
  },
  {
   "cell_type": "code",
   "execution_count": 8,
   "metadata": {},
   "outputs": [],
   "source": [
    "plot, ax = u.plot_CSD(xks, yks, sensor_signalexp[:,:,0], polytopesks)\n"
   ]
  },
  {
   "cell_type": "code",
   "execution_count": 11,
   "metadata": {},
   "outputs": [
    {
     "name": "stderr",
     "output_type": "stream",
     "text": [
      "C:\\Users\\barte\\AppData\\Local\\Temp\\ipykernel_14972\\3392217123.py:1: UserWarning: FigureCanvasAgg is non-interactive, and thus cannot be shown\n",
      "  plot.show()\n"
     ]
    }
   ],
   "source": []
  },
  {
   "cell_type": "code",
   "execution_count": 10,
   "metadata": {},
   "outputs": [
    {
     "data": {
      "text/plain": [
       "<Axes: >"
      ]
     },
     "execution_count": 10,
     "metadata": {},
     "output_type": "execute_result"
    }
   ],
   "source": [
    "ax"
   ]
  },
  {
   "cell_type": "code",
   "execution_count": null,
   "metadata": {},
   "outputs": [],
   "source": []
  }
 ],
 "metadata": {
  "kernelspec": {
   "display_name": "qdarts",
   "language": "python",
   "name": "python3"
  },
  "language_info": {
   "codemirror_mode": {
    "name": "ipython",
    "version": 3
   },
   "file_extension": ".py",
   "mimetype": "text/x-python",
   "name": "python",
   "nbconvert_exporter": "python",
   "pygments_lexer": "ipython3",
   "version": "3.9.19"
  }
 },
 "nbformat": 4,
 "nbformat_minor": 2
}
