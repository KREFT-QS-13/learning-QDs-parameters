{
 "cells": [
  {
   "cell_type": "code",
   "execution_count": 1,
   "metadata": {},
   "outputs": [
    {
     "data": {
      "text/plain": [
       "<module 'utilities.model_utils' from 'd:\\\\!!!_PDF\\\\Fizyka i matma studia\\\\!!!_Leiden\\\\!! projekty 2024_25\\\\Evert van Niewenburg\\\\potencial projects\\\\Qdarts projects\\\\qdarts_code\\\\learning_parameters\\\\utilities\\\\model_utils.py'>"
      ]
     },
     "execution_count": 1,
     "metadata": {},
     "output_type": "execute_result"
    }
   ],
   "source": [
    "import sys\n",
    "import importlib\n",
    "sys.path.append('./qdarts')\n",
    "\n",
    "from qdarts.experiment import Experiment\n",
    "from qdarts.plotting import plot_polytopes\n",
    "\n",
    "import numpy as np\n",
    "import math\n",
    "import matplotlib.pyplot as plt\n",
    "import matplotlib.gridspec as gridspec\n",
    "\n",
    "import utilities.config as c\n",
    "import utilities.utils  as u\n",
    "import utilities.model_utils  as mu\n",
    "\n",
    "import torch\n",
    "\n",
    "importlib.reload(c)\n",
    "importlib.reload(u)\n",
    "importlib.reload(mu)"
   ]
  },
  {
   "cell_type": "markdown",
   "metadata": {},
   "source": [
    "### Looking at the data"
   ]
  },
  {
   "cell_type": "code",
   "execution_count": null,
   "metadata": {},
   "outputs": [],
   "source": [
    "if c.PATH_0 == './ALICE/':\n",
    "    batch_number = 2\n",
    "    img_number = '0035487789'\n",
    "else:\n",
    "    batch_number = 3\n",
    "    img_number = '0060485230'\n",
    "\n",
    "u.reconstruct_img_with_matrices(batch_number, img_number, True)[0]"
   ]
  },
  {
   "cell_type": "markdown",
   "metadata": {},
   "source": [
    "### Data preprocessing"
   ]
  },
  {
   "cell_type": "code",
   "execution_count": null,
   "metadata": {},
   "outputs": [],
   "source": [
    "# datapoints = mu.load_datapoints(param_names=['csd', 'C_DD', 'C_DG'])\n",
    "datapoints = mu.load_datapoints(param_names=['csd', 'C_DD', 'C_DG'], all_batches=False, batches=np.arange(2,3))\n",
    "\n",
    "print(f\"The amount of datapoints loaded: {len(datapoints)}.\")\n",
    "print(f\"The shape of CSD {datapoints[0][0].shape}, and its type {type(datapoints[0][0])}.\")"
   ]
  },
  {
   "cell_type": "markdown",
   "metadata": {},
   "source": [
    "#### Reconstructed image from saved np.ndarray"
   ]
  },
  {
   "cell_type": "code",
   "execution_count": 8,
   "metadata": {},
   "outputs": [],
   "source": [
    "example = datapoints[19] # 67, 19"
   ]
  },
  {
   "cell_type": "code",
   "execution_count": null,
   "metadata": {},
   "outputs": [],
   "source": [
    "example_csd = example[0]\n",
    "u.reconstruct_img_from_tensor(example_csd)"
   ]
  },
  {
   "cell_type": "markdown",
   "metadata": {},
   "source": [
    "#### The preprocessed input seen by the model"
   ]
  },
  {
   "cell_type": "code",
   "execution_count": null,
   "metadata": {},
   "outputs": [],
   "source": [
    "%matplotlib inline\n",
    "\n",
    "tensor = mu.preprocess_csd(example_csd)\n",
    "mu.show_image_from_tensor(tensor)"
   ]
  },
  {
   "cell_type": "markdown",
   "metadata": {},
   "source": [
    "#### Output preproccess"
   ]
  },
  {
   "cell_type": "code",
   "execution_count": null,
   "metadata": {},
   "outputs": [],
   "source": [
    "c_dd, c_dg = example[1], example[2]\n",
    "print(f\"C_DD: \\n {c_dd}\\n\")\n",
    "print(f\"C_DG: \\n {c_dg}\")"
   ]
  },
  {
   "cell_type": "code",
   "execution_count": null,
   "metadata": {},
   "outputs": [],
   "source": [
    "# output -> a vector -> row by row first from C_DD, then C_DG -> K*(K+1)/2 + K^2 (elements)\n",
    "#   \n",
    "output = mu.preprocess_capacitance_matrices(c_dd, c_dg)\n",
    "assert len(output) == c.K*(c.K+1)//2 + c.K**2\n",
    "\n",
    "print(output) "
   ]
  },
  {
   "cell_type": "markdown",
   "metadata": {},
   "source": [
    "#### Filter dataset"
   ]
  },
  {
   "cell_type": "code",
   "execution_count": null,
   "metadata": {},
   "outputs": [],
   "source": [
    "unfiltered_datapoints = datapoints.copy()\n",
    "filtred_datapoints = mu.filter_dataset(datapoints)\n",
    "\n",
    "print(f\"Before filtration: {len(unfiltered_datapoints)}.\\nAfter filtration: {len(filtred_datapoints)} ({100*len(filtred_datapoints)/len(unfiltered_datapoints):.2f}%).\")\n",
    "# datapoints = filtred_datapoints"
   ]
  },
  {
   "cell_type": "markdown",
   "metadata": {},
   "source": [
    "#### Train model"
   ]
  },
  {
   "cell_type": "code",
   "execution_count": null,
   "metadata": {},
   "outputs": [],
   "source": []
  },
  {
   "cell_type": "markdown",
   "metadata": {},
   "source": [
    "### Unit tests"
   ]
  },
  {
   "cell_type": "code",
   "execution_count": 15,
   "metadata": {},
   "outputs": [],
   "source": [
    "c_dd, c_dg = u.generate_capacitance_matrices()\n",
    "output = mu.preprocess_capacitance_matrices(c_dd, c_dg)\n",
    "c_dd_rec, c_dg_rec = mu.reconstruct_capacitance_matrices(output)\n",
    "\n",
    "assert (c_dd == c_dd_rec).all() and (c_dg == c_dg_rec).all()"
   ]
  },
  {
   "cell_type": "code",
   "execution_count": 16,
   "metadata": {},
   "outputs": [],
   "source": [
    "# output -> a vector -> row by row first from C_DD, then C_DG -> K*(K+1)/2 + K^2 (elements)outputmupepocess_cpacitance_matricesc_ddc_dg\n",
    "# c_m = 0.5\n",
    "# c_dd = np.array([[3.1, 0.5], [0.5, 2.9]])\n",
    "# np.sum(c_dg, axis=1).T*np.eye(c.K)+c_m\n",
    "\n",
    "c_dd, c_dg = u.generate_capacitance_matrices()\n",
    "c_m =  c_dd[0,1]\n",
    "\n",
    "c_dd_test = np.array([[c_dg[0,0]+c_dg[0,1]+c_m, c_m], [c_m, c_dg[1,0]+c_dg[1,1]+c_m]])\n",
    "\n",
    "if c.K == 2:\n",
    "    assert (c_dd == c_dd_test).all()\n",
    "    assert c_dd[0,1] == c_dd[1,0]"
   ]
  },
  {
   "cell_type": "markdown",
   "metadata": {},
   "source": [
    "### XAI"
   ]
  },
  {
   "cell_type": "code",
   "execution_count": null,
   "metadata": {},
   "outputs": [],
   "source": [
    "test = mu.load_datapoints(param_names=['csd', 'C_DD', 'C_DG'], all_batches=False, batches=np.arange(41,42))\n",
    "u.reconstruct_img_from_tensor(test[0][0])"
   ]
  },
  {
   "cell_type": "code",
   "execution_count": null,
   "metadata": {},
   "outputs": [],
   "source": [
    "example_X, example_Y = mu.prepare_data(datasize_cut=1, \n",
    "                                       param_names=['csd', 'C_DD', 'C_DG'], \n",
    "                                       all_batches=False, batches=np.arange(41,42))\n",
    "\n",
    "print(example_X.shape, example_Y.shape)\n",
    "print(example_Y[-1])\n"
   ]
  },
  {
   "cell_type": "code",
   "execution_count": null,
   "metadata": {},
   "outputs": [],
   "source": [
    "saliency_overlay, gradcam_overlay, prediction, reconstructed_matrices= mu.explain_output(\n",
    "    input_tensor=example_X,\n",
    "    model_name='resnet',\n",
    "    model_path='./Results/resnet18/resnet18_model_20241028_104258/resnet18_model.pth')\n",
    "\n",
    "print(prediction)\n",
    "print(reconstructed_matrices)"
   ]
  },
  {
   "cell_type": "code",
   "execution_count": null,
   "metadata": {},
   "outputs": [],
   "source": [
    "np.abs(np.array(example_Y) -  prediction)"
   ]
  },
  {
   "cell_type": "code",
   "execution_count": null,
   "metadata": {},
   "outputs": [],
   "source": [
    "saliency_overlay"
   ]
  },
  {
   "cell_type": "code",
   "execution_count": null,
   "metadata": {},
   "outputs": [],
   "source": [
    "gradcam_overlay"
   ]
  },
  {
   "cell_type": "code",
   "execution_count": null,
   "metadata": {},
   "outputs": [],
   "source": [
    "%matplotlib inline\n",
    "plot, ax = mu.generate_csd_from_prediction(prediction)\n",
    "plot.show()"
   ]
  },
  {
   "cell_type": "markdown",
   "metadata": {},
   "source": [
    "### Noise - test"
   ]
  },
  {
   "cell_type": "code",
   "execution_count": 5,
   "metadata": {},
   "outputs": [],
   "source": [
    "c.NOISE = True\n",
    "S = 1\n",
    "device = np.array([[1,1]])\n",
    "N = len(u.get_dots_indices(device))\n",
    "K = S+N\n",
    "\n",
    "config_tuple = (K,N,S)\n",
    "\n",
    "C_DD, C_DG = u.generate_capacitance_matrices(device, config_tuple)\n",
    "capacitance_config, tunneling_config, sensor_config = u.generate_experiment_config(C_DD, C_DG, config_tuple, device)"
   ]
  },
  {
   "cell_type": "code",
   "execution_count": 6,
   "metadata": {},
   "outputs": [
    {
     "name": "stdout",
     "output_type": "stream",
     "text": [
      "EXPERIMENT INITIALIZED\n",
      "-----------------------\n",
      "\n",
      "                Capacitance model deployed with the following parameters:\n",
      "                Dot-dot capacitances: \n",
      "                [[17.5689  3.5788  0.5411]\n",
      " [ 3.5788 20.0288  0.3031]\n",
      " [ 0.5411  0.3031 14.6679]]\n",
      "                Dot-gate capacitances: \n",
      "                [[4.9629e+00 1.4315e+00 1.7700e-02]\n",
      " [1.4315e+00 7.4305e+00 4.5000e-03]\n",
      " [1.7700e-02 4.5000e-03 6.4593e+00]]\n",
      "                Size of Coulomb peaks V[n] is constant\n",
      "                \n",
      "\n",
      "            Sensor model deployed with the following parameters:   \n",
      "            Sensor dot indices: [-1]\n",
      "            Sensor detunings: [-20.] meV\n",
      "            Coulomb peak width: 0.68 meV\n",
      "            Slow noise amplitude: 0.0 ueV\n",
      "            Fast noise amplitude: 0.0 ueV\n",
      "            \n",
      "\n",
      "            Tunneling model deployed with the following parameters:\n",
      "            Tunneling matrix:\n",
      "            [[0.e+00 1.e-04 0.e+00]\n",
      " [1.e-04 0.e+00 0.e+00]\n",
      " [0.e+00 0.e+00 0.e+00]]\n",
      "            Temperature: 0.1 K\n",
      "            Energy range factor: 5\n",
      "            \n"
     ]
    }
   ],
   "source": [
    "experiment = Experiment(capacitance_config=capacitance_config, \n",
    "                        tunneling_config=tunneling_config, \n",
    "                        sensor_config=sensor_config)"
   ]
  },
  {
   "cell_type": "code",
   "execution_count": 2,
   "metadata": {},
   "outputs": [
    {
     "ename": "NameError",
     "evalue": "name 'experiment' is not defined",
     "output_type": "error",
     "traceback": [
      "\u001b[1;31m---------------------------------------------------------------------------\u001b[0m",
      "\u001b[1;31mNameError\u001b[0m                                 Traceback (most recent call last)",
      "Cell \u001b[1;32mIn[2], line 5\u001b[0m\n\u001b[0;32m      1\u001b[0m \u001b[38;5;66;03m# dvmax = -0.01\u001b[39;00m\n\u001b[0;32m      2\u001b[0m \u001b[38;5;66;03m# dvmin = -0.02\u001b[39;00m\n\u001b[0;32m      3\u001b[0m \u001b[38;5;66;03m# v0, v1 = np.random.uniform(dvmin, dvmax, 2)\u001b[39;00m\n\u001b[1;32m----> 5\u001b[0m xks, yks, csd_dataks, polytopesks, sensor_signalexp, _ \u001b[38;5;241m=\u001b[39m \u001b[43mexperiment\u001b[49m\u001b[38;5;241m.\u001b[39mgenerate_CSD(\n\u001b[0;32m      6\u001b[0m                                                 plane_axes \u001b[38;5;241m=\u001b[39m u\u001b[38;5;241m.\u001b[39mget_cut(config_tuple), \u001b[38;5;66;03m# vectors spanning the cut in voltage space\u001b[39;00m\n\u001b[0;32m      7\u001b[0m                                                 \n\u001b[0;32m      8\u001b[0m                                                 target_state \u001b[38;5;241m=\u001b[39m [\u001b[38;5;241m1\u001b[39m,\u001b[38;5;241m0\u001b[39m,\u001b[38;5;241m5\u001b[39m],  \u001b[38;5;66;03m# target state for transition\u001b[39;00m\n\u001b[0;32m      9\u001b[0m                                                 target_transition \u001b[38;5;241m=\u001b[39m [\u001b[38;5;241m-\u001b[39m\u001b[38;5;241m1\u001b[39m,\u001b[38;5;241m1\u001b[39m,\u001b[38;5;241m0\u001b[39m], \u001b[38;5;66;03m#target transition from target state, here transition to [2,3,2,3,5,5]\u001b[39;00m\n\u001b[0;32m     10\u001b[0m \n\u001b[0;32m     11\u001b[0m                                                 x_voltages\u001b[38;5;241m=\u001b[39mnp\u001b[38;5;241m.\u001b[39mlinspace(\u001b[38;5;241m0\u001b[39m, \u001b[38;5;241m0.05\u001b[39m, \u001b[38;5;241m500\u001b[39m), \u001b[38;5;66;03m#voltage range for x-axis\u001b[39;00m\n\u001b[0;32m     12\u001b[0m                                                 y_voltages\u001b[38;5;241m=\u001b[39mnp\u001b[38;5;241m.\u001b[39mlinspace(\u001b[38;5;241m0\u001b[39m, \u001b[38;5;241m0.05\u001b[39m, \u001b[38;5;241m500\u001b[39m), \u001b[38;5;66;03m#voltage range for y-axis\u001b[39;00m\n\u001b[0;32m     13\u001b[0m                                                 compute_polytopes \u001b[38;5;241m=\u001b[39m \u001b[38;5;28;01mTrue\u001b[39;00m,\n\u001b[0;32m     14\u001b[0m                                                 \u001b[38;5;66;03m# compensate_sensors=True, #compensate the sensors\u001b[39;00m\n\u001b[0;32m     15\u001b[0m                                                  \u001b[38;5;66;03m#compute the corners of constant occupation\u001b[39;00m\n\u001b[0;32m     16\u001b[0m                                                 use_sensor_signal\u001b[38;5;241m=\u001b[39m\u001b[38;5;28;01mTrue\u001b[39;00m) \u001b[38;5;66;03m#use the sensor signals   \u001b[39;00m\n",
      "\u001b[1;31mNameError\u001b[0m: name 'experiment' is not defined"
     ]
    }
   ],
   "source": [
    "# dvmax = -0.01\n",
    "# dvmin = -0.02\n",
    "# v0, v1 = np.random.uniform(dvmin, dvmax, 2)\n",
    "\n",
    "xks, yks, csd_dataks, polytopesks, sensor_signalexp, _ = experiment.generate_CSD(\n",
    "                                                plane_axes = u.get_cut(config_tuple), # vectors spanning the cut in voltage space\n",
    "                                                \n",
    "                                                target_state = [1,0,5],  # target state for transition\n",
    "                                                target_transition = [-1,1,0], #target transition from target state, here transition to [2,3,2,3,5,5]\n",
    "\n",
    "                                                x_voltages=np.linspace(0, 0.05, 500), #voltage range for x-axis\n",
    "                                                y_voltages=np.linspace(0, 0.05, 500), #voltage range for y-axis\n",
    "                                                compute_polytopes = True,\n",
    "                                                # compensate_sensors=True, #compensate the sensors\n",
    "                                                 #compute the corners of constant occupation\n",
    "                                                use_sensor_signal=True) #use the sensor signals   \n",
    "\n"
   ]
  },
  {
   "cell_type": "code",
   "execution_count": null,
   "metadata": {},
   "outputs": [],
   "source": [
    "%matplotlib inline\n",
    "fig, ax = u.plot_CSD(xks, yks, sensor_signalexp[:,:,0], polytopesks)  "
   ]
  },
  {
   "cell_type": "code",
   "execution_count": null,
   "metadata": {},
   "outputs": [],
   "source": [
    "%matplotlib inline\n",
    "plt.figure(figsize=(c.RESOLUTION/c.DPI, c.RESOLUTION/c.DPI), dpi=c.DPI)\n",
    "plt.pcolormesh(np.gradient(sensor_signalexp[:,:,0],axis=0))\n",
    "plt.axis('off')\n",
    "plt.tight_layout(pad=0)\n",
    "plt.show()"
   ]
  },
  {
   "cell_type": "code",
   "execution_count": 3,
   "metadata": {},
   "outputs": [
    {
     "name": "stdout",
     "output_type": "stream",
     "text": [
      "K: 3, N: 2, S: 1\n",
      "c.NOISE: True, p_dd: 0.5, p_dg: 0.2\n",
      "K: 3, N: 2, S: 1\n",
      "c.NOISE: True, p_dd: 0.5, p_dg: 0.2\n",
      "True\n",
      "EXPERIMENT INITIALIZED\n",
      "-----------------------\n",
      "\n",
      "                Capacitance model deployed with the following parameters:\n",
      "                Dot-dot capacitances: \n",
      "                [[13.5607  2.625   0.2526]\n",
      " [ 2.625  14.8756  0.5206]\n",
      " [ 0.2526  0.5206 16.9051]]\n",
      "                Dot-gate capacitances: \n",
      "                [[4.5464e+00 1.0500e+00 3.6000e-03]\n",
      " [1.0500e+00 5.2390e+00 1.8600e-02]\n",
      " [3.6000e-03 1.8600e-02 8.4002e+00]]\n",
      "                Size of Coulomb peaks V[n] is constant\n",
      "                \n",
      "\n",
      "            Sensor model deployed with the following parameters:   \n",
      "            Sensor dot indices: [-1]\n",
      "            Sensor detunings: [-20.] meV\n",
      "            Coulomb peak width: 0.68 meV\n",
      "            Slow noise amplitude: 0.0 ueV\n",
      "            Fast noise amplitude: 0.0 ueV\n",
      "            \n",
      "\n",
      "            Tunneling model deployed with the following parameters:\n",
      "            Tunneling matrix:\n",
      "            [[0.     0.0005 0.    ]\n",
      " [0.0005 0.     0.    ]\n",
      " [0.     0.     0.    ]]\n",
      "            Temperature: 0.1 K\n",
      "            Energy range factor: 5\n",
      "            \n",
      "v_offset found: [0.01473726 0.01191855 0.09688236]\n"
     ]
    }
   ],
   "source": [
    "c.NOISE = True\n",
    "\n",
    "x_vol = np.linspace(0, 0.05, 500)\n",
    "y_vol = np.linspace(0, 0.05, 500)\n",
    "ks = 0\n",
    "device = np.array([[1,1]])\n",
    "\n",
    "S=1\n",
    "N=len(u.get_dots_indices(device))\n",
    "K=N+S\n",
    "config_tuple = (K,N,S)\n",
    "\n",
    "C_DD, C_DG, ks, cut, x, y, csd, poly, sensor, device = u.generate_dataset(x_vol, y_vol, ks, device, config_tuple)"
   ]
  },
  {
   "cell_type": "code",
   "execution_count": 4,
   "metadata": {},
   "outputs": [
    {
     "data": {
      "text/plain": [
       "array([[2.82255411e-09, 2.86690533e-09, 2.91175319e-09, ...,\n",
       "        1.37565985e-09, 1.38654172e-09, 1.39750816e-09],\n",
       "       [2.83661194e-09, 2.88135671e-09, 2.92661842e-09, ...,\n",
       "        1.39383843e-09, 1.40486160e-09, 1.41597043e-09],\n",
       "       [2.85057301e-09, 2.89569905e-09, 2.94136210e-09, ...,\n",
       "        1.41225302e-09, 1.42341928e-09, 1.43467230e-09],\n",
       "       ...,\n",
       "       [5.51796710e-09, 5.56087161e-09, 5.60410030e-09, ...,\n",
       "        2.40106120e-09, 2.26497095e-09, 2.22383967e-09],\n",
       "       [5.58875543e-09, 5.63220359e-09, 5.67597986e-09, ...,\n",
       "        2.18242513e-09, 2.19082681e-09, 2.20795195e-09],\n",
       "       [5.66043221e-09, 5.70443055e-09, 5.74876128e-09, ...,\n",
       "        2.18389285e-09, 2.20521271e-09, 2.22759597e-09]])"
      ]
     },
     "execution_count": 4,
     "metadata": {},
     "output_type": "execute_result"
    }
   ],
   "source": [
    "sensor"
   ]
  },
  {
   "cell_type": "code",
   "execution_count": 5,
   "metadata": {},
   "outputs": [
    {
     "data": {
      "image/png": "[encoded data removed]",
      "text/plain": [
       "<Figure size 256x256 with 1 Axes>"
      ]
     },
     "metadata": {},
     "output_type": "display_data"
    }
   ],
   "source": [
    "%matplotlib inline\n",
    "fig, ax = u.plot_CSD(x, y, sensor, poly)  "
   ]
  },
  {
   "cell_type": "code",
   "execution_count": 16,
   "metadata": {},
   "outputs": [],
   "source": [
    "assert np.all(np.sum([np.gradient(sensor, axis=i) for i in [0,1]], axis=0) == np.gradient(sensor,axis=0) + np.gradient(sensor,axis=1))\n",
    "np.sum([np.gradient(sensor, axis=i) for i in [0,1]], axis=0)\n",
    "np.gradient(sensor,axis=0)+np.gradient(sensor,axis=1)"
   ]
  },
  {
   "cell_type": "code",
   "execution_count": 9,
   "metadata": {},
   "outputs": [
    {
     "data": {
      "text/plain": [
       "array([[ 5.84090507e-11,  5.90509209e-11,  5.99564505e-11, ...,\n",
       "         2.90185009e-11,  2.92440421e-11,  2.94287139e-11],\n",
       "       [ 5.87542219e-11,  5.94001001e-11,  6.03195644e-11, ...,\n",
       "         2.92772206e-11,  2.95047797e-11,  2.96908973e-11],\n",
       "       [ 5.90442579e-11,  5.96875102e-11,  6.06147984e-11, ...,\n",
       "         2.96573116e-11,  2.98877459e-11,  3.00762033e-11],\n",
       "       ...,\n",
       "       [ 1.13254153e-10,  1.13956580e-10,  1.14826334e-10, ...,\n",
       "        -1.60966781e-09, -6.44562931e-10, -2.53214718e-10],\n",
       "       [ 1.14680717e-10,  1.15391685e-10,  1.16272205e-10, ...,\n",
       "        -1.10751994e-10, -1.71157103e-11,  1.90032877e-11],\n",
       "       [ 1.15675124e-10,  1.16391497e-10,  1.17279571e-10, ...,\n",
       "         2.17170798e-11,  3.62374580e-11,  4.20272737e-11]])"
      ]
     },
     "execution_count": 9,
     "metadata": {},
     "output_type": "execute_result"
    }
   ],
   "source": [
    "np.gradient(sensor,axis=0) + np.gradient(sensor,axis=1)"
   ]
  },
  {
   "cell_type": "code",
   "execution_count": 7,
   "metadata": {},
   "outputs": [
    {
     "data": {
      "image/png": "[encoded data removed]",
      "text/plain": [
       "<Figure size 256x256 with 1 Axes>"
      ]
     },
     "metadata": {},
     "output_type": "display_data"
    }
   ],
   "source": [
    "%matplotlib inline\n",
    "plt.figure(figsize=(c.RESOLUTION/c.DPI, c.RESOLUTION/c.DPI), dpi=c.DPI)\n",
    "plt.pcolormesh(np.gradient(sensor,axis=0) + np.gradient(sensor,axis=1)  )\n",
    "plt.axis('off')\n",
    "plt.tight_layout(pad=0)\n",
    "plt.show()"
   ]
  },
  {
   "cell_type": "code",
   "execution_count": null,
   "metadata": {},
   "outputs": [],
   "source": [
    "u.get_mask(device, (3,2,1))"
   ]
  },
  {
   "cell_type": "markdown",
   "metadata": {},
   "source": [
    "### Device"
   ]
  },
  {
   "cell_type": "code",
   "execution_count": null,
   "metadata": {},
   "outputs": [],
   "source": [
    "# device = np.array([[0,1, 0,1,0],[1,0,1,0,1],[0,1,0,1,0]])\n",
    "# device = np.ones((2,2))\n",
    "# device = np.ones((1,3))\n",
    "device = np.array([[1,1,0,0,1]])\n",
    "\n",
    "\n",
    "# r0 = [c.d_DD*np.sqrt(0.5**2+3**2)]\n",
    "# t0 = [np.arctan(3/0.5)]\n",
    "r0 = [6*c.d_DD]\n",
    "t0 = [0]\n",
    "S=len(t0)\n",
    "c.set_global_K(len(u.get_dots_indices(device))+S)\n",
    "\n",
    "sensors = u.set_sensors_positions(S, device, list_r0=r0, list_theta0=t0)\n",
    "# sensors = u.set_sensors_positions(S, device)\n",
    "\n",
    "print(device, sensors)"
   ]
  },
  {
   "cell_type": "code",
   "execution_count": null,
   "metadata": {},
   "outputs": [],
   "source": [
    "# Example usage:\n",
    "%matplotlib inline\n",
    "fig, ax = u.plot_device_lattice(device, sensors)\n",
    "plt.show()"
   ]
  },
  {
   "cell_type": "code",
   "execution_count": null,
   "metadata": {},
   "outputs": [],
   "source": [
    "dist_matrix = u.get_device_distance_matrix(device, sensors)\n",
    "dist_matrix"
   ]
  },
  {
   "cell_type": "code",
   "execution_count": 34,
   "metadata": {},
   "outputs": [],
   "source": [
    "C_DD, C_DG = u.exp_decay_model(dist_matrix, model=1)"
   ]
  },
  {
   "cell_type": "code",
   "execution_count": null,
   "metadata": {},
   "outputs": [],
   "source": [
    "C_DG"
   ]
  },
  {
   "cell_type": "code",
   "execution_count": null,
   "metadata": {},
   "outputs": [],
   "source": [
    "x= np.ones((c.K,c.K))\n"
   ]
  },
  {
   "cell_type": "code",
   "execution_count": null,
   "metadata": {},
   "outputs": [],
   "source": [
    "C_DD"
   ]
  },
  {
   "cell_type": "code",
   "execution_count": null,
   "metadata": {},
   "outputs": [],
   "source": [
    "(np.sum(C_DD, axis=1)-np.diag(C_DD))*np.eye(c.K) \n"
   ]
  },
  {
   "cell_type": "code",
   "execution_count": null,
   "metadata": {},
   "outputs": [],
   "source": [
    "C_DD + np.sum(C_DG, axis=1).T*np.eye(c.K) + (np.sum(C_DD, axis=1)-np.diag(C_DD))*np.eye(c.K) "
   ]
  },
  {
   "cell_type": "code",
   "execution_count": null,
   "metadata": {},
   "outputs": [],
   "source": [
    "c.set_global_NOISE(True)\n",
    "u.generate_capacitance_matrices(device)"
   ]
  }
 ],
 "metadata": {
  "kernelspec": {
   "display_name": "qdarts",
   "language": "python",
   "name": "python3"
  },
  "language_info": {
   "codemirror_mode": {
    "name": "ipython",
    "version": 3
   },
   "file_extension": ".py",
   "mimetype": "text/x-python",
   "name": "python",
   "nbconvert_exporter": "python",
   "pygments_lexer": "ipython3",
   "version": "3.9.19"
  }
 },
 "nbformat": 4,
 "nbformat_minor": 2
}
