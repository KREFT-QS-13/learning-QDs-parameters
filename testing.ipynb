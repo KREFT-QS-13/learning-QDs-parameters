{
 "cells": [
  {
   "cell_type": "code",
   "execution_count": 3,
   "metadata": {},
   "outputs": [],
   "source": [
    "import sys\n",
    "sys.path.append('./qdarts')\n",
    "\n",
    "from experiment import Experiment\n",
    "from plotting import plot_polytopes\n",
    "\n",
    "import numpy as np\n",
    "import matplotlib.pyplot as plt\n",
    "import matplotlib.gridspec as gridspec"
   ]
  },
  {
   "cell_type": "code",
   "execution_count": 11,
   "metadata": {},
   "outputs": [],
   "source": [
    "N=2"
   ]
  },
  {
   "cell_type": "code",
   "execution_count": 13,
   "metadata": {},
   "outputs": [],
   "source": [
    "tunnel_couplings = np.zeros((N,N))\n",
    "tunnel_couplings[0,1] = 50*1e-6\n",
    "tunnel_couplings[1,0] = 50*1e-6\n",
    "# tunnel_couplings[2,3] = 60*1e-6\n",
    "# tunnel_couplings[3,2] = 60*1e-6"
   ]
  },
  {
   "cell_type": "code",
   "execution_count": 14,
   "metadata": {},
   "outputs": [],
   "source": [
    "max_value = 10\n",
    "C_DD = np.random.uniform(0, max_value, size=(N, N))\n",
    "C_DG = np.random.uniform(0, max_value, size=(N, N))"
   ]
  },
  {
   "cell_type": "code",
   "execution_count": 15,
   "metadata": {},
   "outputs": [
    {
     "name": "stdout",
     "output_type": "stream",
     "text": [
      "EXPERIMENT INITIALIZED\n",
      "-----------------------\n",
      "\n",
      "                Capacitance model deployed with the following parameters:\n",
      "                Dot-dot capacitances: \n",
      "                [[8.28844073 5.77878473]\n",
      " [1.92786491 0.6272892 ]]\n",
      "                Dot-gate capacitances: \n",
      "                [[3.46106221 1.14043976]\n",
      " [1.24940055 9.48792849]]\n",
      "                Size of Coulomb peaks V[n] is constant\n",
      "                \n"
     ]
    }
   ],
   "source": [
    "capacitance_config = {\n",
    "        \"C_DD\" : C_DD,  #dot-dot capacitance matrix\n",
    "        \"C_Dg\" : C_DG,  #dot-gate capacitance matrix\n",
    "        \"ks\" : 0,       #distortion of Coulomb peaks. NOTE: If None -> constant size of Coublomb peak \n",
    "}\n",
    "\n",
    "tunneling_config = {\n",
    "        \"tunnel_couplings\": tunnel_couplings, #tunnel coupling matrix\n",
    "        \"temperature\": 0.1,                   #temperature in Kelvin\n",
    "        \"energy_range_factor\": 5,  #energy scale for the Hamiltonian generation. NOTE: Smaller -> faster but less accurate computation \n",
    "}\n",
    "sensor_config = {\n",
    "        \"sensor_dot_indices\": [4,5],  #Indices of the sensor dots\n",
    "        \"sensor_detunings\": [-0.0005,-0.0005],  #Detuning of the sensor dots\n",
    "        \"noise_amplitude\": {\"fast_noise\": 0.8*1e-6, \"slow_noise\": 1e-8}, #Noise amplitude for the sensor dots in eV\n",
    "        \"peak_width_multiplier\": 15,  #Width of the sensor peaks in the units of thermal broadening m *kB*T/0.61.\n",
    "}\n",
    "\n",
    "# experiment = Experiment(capacitance_config, tunneling_config, sensor_config)\n",
    "experiment = Experiment(capacitance_config)\n"
   ]
  },
  {
   "cell_type": "code",
   "execution_count": 62,
   "metadata": {},
   "outputs": [],
   "source": [
    "x_vol = np.linspace(0, 0.05, 500)\n",
    "y_vol = np.linspace(0, 0.05, 500)"
   ]
  },
  {
   "cell_type": "code",
   "execution_count": 63,
   "metadata": {},
   "outputs": [],
   "source": [
    "def generate_CSD_graph(experiment, x_vol, y_vol):\n",
    "    xks, yks, csd_dataks, polytopesks, _, _ = experiment.generate_CSD(\n",
    "                                                x_voltages = x_vol,  #V\n",
    "                                                y_voltages = y_vol,  #V\n",
    "                                                plane_axes = [[1,0],[0,1]], #NOTE: with defauls use_virtual_gates = False, this means voltages.\n",
    "                                                compute_polytopes = True,\n",
    "                                                use_virtual_gates = False)    \n",
    "        \n",
    "    # Create a figure\n",
    "    px = 1/plt.rcParams['figure.dpi']  # pixel in inches\n",
    "    size = 256 # 512\n",
    "    fig, ax = plt.subplots(figsize=(size*px, size*px))\n",
    "\n",
    "    ax.pcolormesh(1e3*xks,1e3*yks,csd_dataks) #plot the background\n",
    "    plot_polytopes(ax, polytopesks, axes_rescale = 1e3, only_edges=True) #plot the polytopes\n",
    "\n",
    "    # plot customisation\n",
    "    # ax.set_xlabel('Relative Voltage $v_0$ (mV)')\n",
    "    # ax.set_ylabel('Relative Voltage $v_1$ (mV)')\n",
    "    ax.set_xlim(xks[0]*1e3,xks[-1]*1e3)\n",
    "    ax.set_ylim(yks[0]*1e3,yks[-1]*1e3)\n",
    "    ax.axis('off')\n",
    "\n",
    "    plt.show()"
   ]
  },
  {
   "cell_type": "code",
   "execution_count": 67,
   "metadata": {},
   "outputs": [
    {
     "name": "stdout",
     "output_type": "stream",
     "text": [
      "[0.02371372 0.09752048] [0.02204409 0.09839679] [ 4 35]\n"
     ]
    },
    {
     "ename": "LookupError",
     "evalue": "",
     "output_type": "error",
     "traceback": [
      "\u001b[1;31m---------------------------------------------------------------------------\u001b[0m",
      "\u001b[1;31mLookupError\u001b[0m                               Traceback (most recent call last)",
      "Cell \u001b[1;32mIn[67], line 1\u001b[0m\n\u001b[1;32m----> 1\u001b[0m \u001b[43mgenerate_CSD_graph\u001b[49m\u001b[43m(\u001b[49m\u001b[43mexperiment\u001b[49m\u001b[43m,\u001b[49m\u001b[43m \u001b[49m\u001b[43mx_vol\u001b[49m\u001b[43m[\u001b[49m\u001b[38;5;241;43m3\u001b[39;49m\u001b[43m]\u001b[49m\u001b[43m,\u001b[49m\u001b[43m \u001b[49m\u001b[43my_vol\u001b[49m\u001b[43m[\u001b[49m\u001b[38;5;241;43m3\u001b[39;49m\u001b[43m]\u001b[49m\u001b[43m)\u001b[49m\n",
      "Cell \u001b[1;32mIn[63], line 2\u001b[0m, in \u001b[0;36mgenerate_CSD_graph\u001b[1;34m(experiment, x_vol, y_vol)\u001b[0m\n\u001b[0;32m      1\u001b[0m \u001b[38;5;28;01mdef\u001b[39;00m \u001b[38;5;21mgenerate_CSD_graph\u001b[39m(experiment, x_vol, y_vol):\n\u001b[1;32m----> 2\u001b[0m     xks, yks, csd_dataks, polytopesks, _, _ \u001b[38;5;241m=\u001b[39m \u001b[43mexperiment\u001b[49m\u001b[38;5;241;43m.\u001b[39;49m\u001b[43mgenerate_CSD\u001b[49m\u001b[43m(\u001b[49m\n\u001b[0;32m      3\u001b[0m \u001b[43m                                                \u001b[49m\u001b[43mx_voltages\u001b[49m\u001b[43m \u001b[49m\u001b[38;5;241;43m=\u001b[39;49m\u001b[43m \u001b[49m\u001b[43mx_vol\u001b[49m\u001b[43m,\u001b[49m\u001b[43m  \u001b[49m\u001b[38;5;66;43;03m#V\u001b[39;49;00m\n\u001b[0;32m      4\u001b[0m \u001b[43m                                                \u001b[49m\u001b[43my_voltages\u001b[49m\u001b[43m \u001b[49m\u001b[38;5;241;43m=\u001b[39;49m\u001b[43m \u001b[49m\u001b[43my_vol\u001b[49m\u001b[43m,\u001b[49m\u001b[43m  \u001b[49m\u001b[38;5;66;43;03m#V\u001b[39;49;00m\n\u001b[0;32m      5\u001b[0m \u001b[43m                                                \u001b[49m\u001b[43mplane_axes\u001b[49m\u001b[43m \u001b[49m\u001b[38;5;241;43m=\u001b[39;49m\u001b[43m \u001b[49m\u001b[43m[\u001b[49m\u001b[43m[\u001b[49m\u001b[38;5;241;43m1\u001b[39;49m\u001b[43m,\u001b[49m\u001b[38;5;241;43m0\u001b[39;49m\u001b[43m]\u001b[49m\u001b[43m,\u001b[49m\u001b[43m[\u001b[49m\u001b[38;5;241;43m0\u001b[39;49m\u001b[43m,\u001b[49m\u001b[38;5;241;43m1\u001b[39;49m\u001b[43m]\u001b[49m\u001b[43m]\u001b[49m\u001b[43m,\u001b[49m\u001b[43m \u001b[49m\u001b[38;5;66;43;03m#NOTE: with defauls use_virtual_gates = False, this means voltages.\u001b[39;49;00m\n\u001b[0;32m      6\u001b[0m \u001b[43m                                                \u001b[49m\u001b[43mcompute_polytopes\u001b[49m\u001b[43m \u001b[49m\u001b[38;5;241;43m=\u001b[39;49m\u001b[43m \u001b[49m\u001b[38;5;28;43;01mTrue\u001b[39;49;00m\u001b[43m,\u001b[49m\n\u001b[0;32m      7\u001b[0m \u001b[43m                                                \u001b[49m\u001b[43muse_virtual_gates\u001b[49m\u001b[43m \u001b[49m\u001b[38;5;241;43m=\u001b[39;49m\u001b[43m \u001b[49m\u001b[38;5;28;43;01mFalse\u001b[39;49;00m\u001b[43m)\u001b[49m    \n\u001b[0;32m      9\u001b[0m     \u001b[38;5;66;03m# Create a figure\u001b[39;00m\n\u001b[0;32m     10\u001b[0m     px \u001b[38;5;241m=\u001b[39m \u001b[38;5;241m1\u001b[39m\u001b[38;5;241m/\u001b[39mplt\u001b[38;5;241m.\u001b[39mrcParams[\u001b[38;5;124m'\u001b[39m\u001b[38;5;124mfigure.dpi\u001b[39m\u001b[38;5;124m'\u001b[39m]  \u001b[38;5;66;03m# pixel in inches\u001b[39;00m\n",
      "File \u001b[1;32md:\\!!!_PDF\\Fizyka i matma studia\\!!!_Leiden\\!! projekty 2024_25\\Evert van Niewenburg\\potencial projects\\Qdarts projects\\qdarts_code\\learning_parameters\\./qdarts\\experiment.py:387\u001b[0m, in \u001b[0;36mExperiment.generate_CSD\u001b[1;34m(self, x_voltages, y_voltages, plane_axes, target_state, target_transition, use_virtual_gates, compensate_sensors, compute_polytopes, use_sensor_signal, v_offset)\u001b[0m\n\u001b[0;32m    385\u001b[0m \u001b[38;5;66;03m# Part for the electrostatic CSD:\u001b[39;00m\n\u001b[0;32m    386\u001b[0m \u001b[38;5;28;01mif\u001b[39;00m \u001b[38;5;129;01mnot\u001b[39;00m use_sensor_signal \u001b[38;5;129;01mor\u001b[39;00m compute_polytopes:\n\u001b[1;32m--> 387\u001b[0m     backend, CSD_data, states \u001b[38;5;241m=\u001b[39m  \u001b[43mget_CSD_data\u001b[49m\u001b[43m(\u001b[49m\u001b[43mcsimulator\u001b[49m\u001b[43m,\u001b[49m\u001b[43m \u001b[49m\u001b[43mv_offset\u001b[49m\u001b[43m,\u001b[49m\u001b[43m \u001b[49m\u001b[43mnp\u001b[49m\u001b[38;5;241;43m.\u001b[39;49m\u001b[43marray\u001b[49m\u001b[43m(\u001b[49m\u001b[43mplane_axes\u001b[49m\u001b[43m)\u001b[49m\u001b[38;5;241;43m.\u001b[39;49m\u001b[43mT\u001b[49m\u001b[43m,\u001b[49m\u001b[43m \u001b[49m\u001b[43mminV\u001b[49m\u001b[43m,\u001b[49m\u001b[43m \u001b[49m\u001b[43mmaxV\u001b[49m\u001b[43m,\u001b[49m\u001b[43m \u001b[49m\u001b[43mresolution\u001b[49m\u001b[43m,\u001b[49m\u001b[43m \u001b[49m\u001b[43mtarget_state\u001b[49m\u001b[43m)\u001b[49m\n\u001b[0;32m    388\u001b[0m     \u001b[38;5;28;01mif\u001b[39;00m compute_polytopes:\n\u001b[0;32m    389\u001b[0m         v_offset_polytopes \u001b[38;5;241m=\u001b[39m [np\u001b[38;5;241m.\u001b[39mdot(v_offset,plane_axes[\u001b[38;5;241m0\u001b[39m]), np\u001b[38;5;241m.\u001b[39mdot(v_offset,plane_axes[\u001b[38;5;241m1\u001b[39m])]\n",
      "File \u001b[1;32md:\\!!!_PDF\\Fizyka i matma studia\\!!!_Leiden\\!! projekty 2024_25\\Evert van Niewenburg\\potencial projects\\Qdarts projects\\qdarts_code\\learning_parameters\\./qdarts\\plotting.py:114\u001b[0m, in \u001b[0;36mget_CSD_data\u001b[1;34m(simulation, v_0, P, lower_left, upper_right, resolution, state_hint_lower_left)\u001b[0m\n\u001b[0;32m    111\u001b[0m simulation_slice \u001b[38;5;241m=\u001b[39m simulation\u001b[38;5;241m.\u001b[39mslice(P, v_0, proxy\u001b[38;5;241m=\u001b[39m\u001b[38;5;28;01mTrue\u001b[39;00m)\n\u001b[0;32m    113\u001b[0m \u001b[38;5;66;03m#compute CSD\u001b[39;00m\n\u001b[1;32m--> 114\u001b[0m states \u001b[38;5;241m=\u001b[39m \u001b[43mraster_CSD_states\u001b[49m\u001b[43m(\u001b[49m\u001b[43msimulation_slice\u001b[49m\u001b[43m,\u001b[49m\u001b[43m \u001b[49m\u001b[43mnp\u001b[49m\u001b[38;5;241;43m.\u001b[39;49m\u001b[43mzeros\u001b[49m\u001b[43m(\u001b[49m\u001b[38;5;241;43m2\u001b[39;49m\u001b[43m)\u001b[49m\u001b[43m,\u001b[49m\u001b[43m \u001b[49m\u001b[43mnp\u001b[49m\u001b[38;5;241;43m.\u001b[39;49m\u001b[43meye\u001b[49m\u001b[43m(\u001b[49m\u001b[38;5;241;43m2\u001b[39;49m\u001b[43m)\u001b[49m\u001b[43m,\u001b[49m\u001b[43m \u001b[49m\u001b[43mminV\u001b[49m\u001b[43m,\u001b[49m\u001b[43m \u001b[49m\u001b[43mmaxV\u001b[49m\u001b[43m,\u001b[49m\u001b[43m \u001b[49m\u001b[43mresolution\u001b[49m\u001b[43m,\u001b[49m\u001b[43m \u001b[49m\u001b[43mcorner_state\u001b[49m\u001b[43m)\u001b[49m\n\u001b[0;32m    115\u001b[0m color_weights \u001b[38;5;241m=\u001b[39m np\u001b[38;5;241m.\u001b[39mlinspace(\u001b[38;5;241m1\u001b[39m,\u001b[38;5;241m2.7\u001b[39m,simulation_slice\u001b[38;5;241m.\u001b[39mnum_dots)\n\u001b[0;32m    116\u001b[0m CSD_data \u001b[38;5;241m=\u001b[39m \u001b[38;5;241m1\u001b[39m\u001b[38;5;241m+\u001b[39mnp\u001b[38;5;241m.\u001b[39msum(color_weights\u001b[38;5;241m.\u001b[39mreshape(\u001b[38;5;241m1\u001b[39m,\u001b[38;5;241m1\u001b[39m,\u001b[38;5;241m-\u001b[39m\u001b[38;5;241m1\u001b[39m)\u001b[38;5;241m*\u001b[39mstates,axis\u001b[38;5;241m=\u001b[39m\u001b[38;5;241m2\u001b[39m)\n",
      "File \u001b[1;32md:\\!!!_PDF\\Fizyka i matma studia\\!!!_Leiden\\!! projekty 2024_25\\Evert van Niewenburg\\potencial projects\\Qdarts projects\\qdarts_code\\learning_parameters\\./qdarts\\plotting.py:70\u001b[0m, in \u001b[0;36mraster_CSD_states\u001b[1;34m(simulation, v_0, P, minV, maxV, resolution, state_hint_lower_right)\u001b[0m\n\u001b[0;32m     68\u001b[0m \u001b[38;5;28;01mfor\u001b[39;00m j,v2 \u001b[38;5;129;01min\u001b[39;00m \u001b[38;5;28menumerate\u001b[39m(np\u001b[38;5;241m.\u001b[39mlinspace(minV[\u001b[38;5;241m1\u001b[39m],maxV[\u001b[38;5;241m1\u001b[39m],resolution[\u001b[38;5;241m1\u001b[39m])):\n\u001b[0;32m     69\u001b[0m     v \u001b[38;5;241m=\u001b[39m v_0\u001b[38;5;241m+\u001b[39mP\u001b[38;5;129m@np\u001b[39m\u001b[38;5;241m.\u001b[39marray([v1,v2])\n\u001b[1;32m---> 70\u001b[0m     state \u001b[38;5;241m=\u001b[39m \u001b[43msimulation\u001b[49m\u001b[38;5;241;43m.\u001b[39;49m\u001b[43mfind_state_of_voltage\u001b[49m\u001b[43m(\u001b[49m\u001b[43mv\u001b[49m\u001b[43m,\u001b[49m\u001b[43mstate\u001b[49m\u001b[43m)\u001b[49m\n\u001b[0;32m     71\u001b[0m     \u001b[38;5;28;01mif\u001b[39;00m \u001b[38;5;129;01mnot\u001b[39;00m simulation\u001b[38;5;241m.\u001b[39minside_state(v,state):\n\u001b[0;32m     72\u001b[0m         \u001b[38;5;28mprint\u001b[39m(\u001b[38;5;124m\"\u001b[39m\u001b[38;5;124merror\u001b[39m\u001b[38;5;124m\"\u001b[39m)\n",
      "File \u001b[1;32md:\\!!!_PDF\\Fizyka i matma studia\\!!!_Leiden\\!! projekty 2024_25\\Evert van Niewenburg\\potencial projects\\Qdarts projects\\qdarts_code\\learning_parameters\\./qdarts\\simulator.py:172\u001b[0m, in \u001b[0;36mBaseCapacitiveDeviceSimulator.find_state_of_voltage\u001b[1;34m(self, v, state_hint, deep_search)\u001b[0m\n\u001b[0;32m    170\u001b[0m v_inside \u001b[38;5;241m=\u001b[39m polytope\u001b[38;5;241m.\u001b[39mpoint_inside\u001b[38;5;241m.\u001b[39mcopy()\n\u001b[0;32m    171\u001b[0m \u001b[38;5;28;01mwhile\u001b[39;00m \u001b[38;5;129;01mnot\u001b[39;00m \u001b[38;5;28mself\u001b[39m\u001b[38;5;241m.\u001b[39minside_state(v,state):\n\u001b[1;32m--> 172\u001b[0m     state,v_inside \u001b[38;5;241m=\u001b[39m \u001b[38;5;28;43mself\u001b[39;49m\u001b[38;5;241;43m.\u001b[39;49m\u001b[43mfind_boundary_intersection\u001b[49m\u001b[43m(\u001b[49m\u001b[43mv_inside\u001b[49m\u001b[43m,\u001b[49m\u001b[43m \u001b[49m\u001b[43mv\u001b[49m\u001b[43m,\u001b[49m\u001b[43m \u001b[49m\u001b[43mstate\u001b[49m\u001b[43m,\u001b[49m\u001b[43m \u001b[49m\u001b[43mdeep_search\u001b[49m\u001b[43m \u001b[49m\u001b[38;5;241;43m=\u001b[39;49m\u001b[43m \u001b[49m\u001b[43mdeep_search\u001b[49m\u001b[43m)\u001b[49m\n\u001b[0;32m    174\u001b[0m \u001b[38;5;28;01mreturn\u001b[39;00m state\n",
      "File \u001b[1;32md:\\!!!_PDF\\Fizyka i matma studia\\!!!_Leiden\\!! projekty 2024_25\\Evert van Niewenburg\\potencial projects\\Qdarts projects\\qdarts_code\\learning_parameters\\./qdarts\\simulator.py:153\u001b[0m, in \u001b[0;36mBaseCapacitiveDeviceSimulator.find_boundary_intersection\u001b[1;34m(self, old_v, new_v, state, epsilon, deep_search)\u001b[0m\n\u001b[0;32m    150\u001b[0m         \u001b[38;5;28mprint\u001b[39m(old_v, new_v, state)\n\u001b[0;32m    151\u001b[0m         \u001b[38;5;28;01mraise\u001b[39;00m \u001b[38;5;167;01mLookupError\u001b[39;00m()\n\u001b[1;32m--> 153\u001b[0m     transition_state \u001b[38;5;241m=\u001b[39m \u001b[38;5;28;43mself\u001b[39;49m\u001b[38;5;241;43m.\u001b[39;49m\u001b[43mfind_state_of_voltage\u001b[49m\u001b[43m(\u001b[49m\u001b[43mnew_v\u001b[49m\u001b[43m,\u001b[49m\u001b[43m \u001b[49m\u001b[43mstate\u001b[49m\u001b[43m,\u001b[49m\u001b[43m \u001b[49m\u001b[43mdeep_search\u001b[49m\u001b[38;5;241;43m=\u001b[39;49m\u001b[43m \u001b[49m\u001b[38;5;28;43;01mFalse\u001b[39;49;00m\u001b[43m)\u001b[49m\n\u001b[0;32m    155\u001b[0m \u001b[38;5;28;01mreturn\u001b[39;00m transition_state, v_intersect\n",
      "File \u001b[1;32md:\\!!!_PDF\\Fizyka i matma studia\\!!!_Leiden\\!! projekty 2024_25\\Evert van Niewenburg\\potencial projects\\Qdarts projects\\qdarts_code\\learning_parameters\\./qdarts\\simulator.py:172\u001b[0m, in \u001b[0;36mBaseCapacitiveDeviceSimulator.find_state_of_voltage\u001b[1;34m(self, v, state_hint, deep_search)\u001b[0m\n\u001b[0;32m    170\u001b[0m v_inside \u001b[38;5;241m=\u001b[39m polytope\u001b[38;5;241m.\u001b[39mpoint_inside\u001b[38;5;241m.\u001b[39mcopy()\n\u001b[0;32m    171\u001b[0m \u001b[38;5;28;01mwhile\u001b[39;00m \u001b[38;5;129;01mnot\u001b[39;00m \u001b[38;5;28mself\u001b[39m\u001b[38;5;241m.\u001b[39minside_state(v,state):\n\u001b[1;32m--> 172\u001b[0m     state,v_inside \u001b[38;5;241m=\u001b[39m \u001b[38;5;28;43mself\u001b[39;49m\u001b[38;5;241;43m.\u001b[39;49m\u001b[43mfind_boundary_intersection\u001b[49m\u001b[43m(\u001b[49m\u001b[43mv_inside\u001b[49m\u001b[43m,\u001b[49m\u001b[43m \u001b[49m\u001b[43mv\u001b[49m\u001b[43m,\u001b[49m\u001b[43m \u001b[49m\u001b[43mstate\u001b[49m\u001b[43m,\u001b[49m\u001b[43m \u001b[49m\u001b[43mdeep_search\u001b[49m\u001b[43m \u001b[49m\u001b[38;5;241;43m=\u001b[39;49m\u001b[43m \u001b[49m\u001b[43mdeep_search\u001b[49m\u001b[43m)\u001b[49m\n\u001b[0;32m    174\u001b[0m \u001b[38;5;28;01mreturn\u001b[39;00m state\n",
      "File \u001b[1;32md:\\!!!_PDF\\Fizyka i matma studia\\!!!_Leiden\\!! projekty 2024_25\\Evert van Niewenburg\\potencial projects\\Qdarts projects\\qdarts_code\\learning_parameters\\./qdarts\\simulator.py:151\u001b[0m, in \u001b[0;36mBaseCapacitiveDeviceSimulator.find_boundary_intersection\u001b[1;34m(self, old_v, new_v, state, epsilon, deep_search)\u001b[0m\n\u001b[0;32m    149\u001b[0m     \u001b[38;5;28;01mif\u001b[39;00m deep_search \u001b[38;5;241m==\u001b[39m \u001b[38;5;28;01mFalse\u001b[39;00m:\n\u001b[0;32m    150\u001b[0m         \u001b[38;5;28mprint\u001b[39m(old_v, new_v, state)\n\u001b[1;32m--> 151\u001b[0m         \u001b[38;5;28;01mraise\u001b[39;00m \u001b[38;5;167;01mLookupError\u001b[39;00m()\n\u001b[0;32m    153\u001b[0m     transition_state \u001b[38;5;241m=\u001b[39m \u001b[38;5;28mself\u001b[39m\u001b[38;5;241m.\u001b[39mfind_state_of_voltage(new_v, state, deep_search\u001b[38;5;241m=\u001b[39m \u001b[38;5;28;01mFalse\u001b[39;00m)\n\u001b[0;32m    155\u001b[0m \u001b[38;5;28;01mreturn\u001b[39;00m transition_state, v_intersect\n",
      "\u001b[1;31mLookupError\u001b[0m: "
     ]
    }
   ],
   "source": [
    "generate_CSD_graph(experiment, x_vol, y_vol)"
   ]
  },
  {
   "cell_type": "code",
   "execution_count": null,
   "metadata": {},
   "outputs": [],
   "source": []
  }
 ],
 "metadata": {
  "kernelspec": {
   "display_name": "qdarts",
   "language": "python",
   "name": "python3"
  },
  "language_info": {
   "codemirror_mode": {
    "name": "ipython",
    "version": 3
   },
   "file_extension": ".py",
   "mimetype": "text/x-python",
   "name": "python",
   "nbconvert_exporter": "python",
   "pygments_lexer": "ipython3",
   "version": "3.9.19"
  }
 },
 "nbformat": 4,
 "nbformat_minor": 2
}
