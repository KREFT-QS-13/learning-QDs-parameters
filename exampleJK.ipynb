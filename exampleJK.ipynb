{
 "cells": [
  {
   "cell_type": "code",
   "execution_count": 6,
   "metadata": {},
   "outputs": [
    {
     "name": "stdout",
     "output_type": "stream",
     "text": [
      "Collecting h5py\n",
      "  Downloading h5py-3.12.1-cp39-cp39-macosx_10_9_x86_64.whl.metadata (2.5 kB)\n",
      "Requirement already satisfied: numpy>=1.19.3 in /opt/anaconda3/envs/py39/lib/python3.9/site-packages (from h5py) (1.26.4)\n",
      "Downloading h5py-3.12.1-cp39-cp39-macosx_10_9_x86_64.whl (3.4 MB)\n",
      "\u001b[2K   \u001b[90m━━━━━━━━━━━━━━━━━━━━━━━━━━━━━━━━━━━━━━━━\u001b[0m \u001b[32m3.4/3.4 MB\u001b[0m \u001b[31m18.0 MB/s\u001b[0m eta \u001b[36m0:00:00\u001b[0ma \u001b[36m0:00:01\u001b[0m\n",
      "\u001b[?25hInstalling collected packages: h5py\n",
      "Successfully installed h5py-3.12.1\n"
     ]
    }
   ],
   "source": [
    "! pip3 install h5py"
   ]
  },
  {
   "cell_type": "code",
   "execution_count": 1,
   "metadata": {},
   "outputs": [],
   "source": [
    "import sys\n",
    "sys.path.append('./qdarts')\n",
    "\n",
    "from qdarts.experiment import Experiment\n",
    "from qdarts.plotting import plot_polytopes\n",
    "\n",
    "\n",
    "\n",
    "import numpy as np\n",
    "import math\n",
    "import matplotlib.pyplot as plt\n",
    "import matplotlib.gridspec as gridspec\n",
    "\n",
    "import utilities.config as c\n",
    "import utilities.utils  as u\n",
    "#import torch\n"
   ]
  },
  {
   "cell_type": "code",
   "execution_count": 101,
   "metadata": {},
   "outputs": [],
   "source": [
    "# Define the system\n",
    "c.set_global_K(3)\n",
    "C_DD, C_DG = u.generate_capacitance_matrices()\n",
    "tcs = np.zeros((c.K,c.K))\n",
    "#All capacitances are given in aF\n",
    "N = 3 #number of dots   \n",
    "\n",
    "C_DG[0:2,0] /= 10\n",
    "C_DG[0:2,1] /= 10\n",
    "# Definition of the tunnel couplings in eV \n",
    "# NOTE: we use the convention that tc is the energy gap at avoided crossing H = tc/2 sx\n",
    "tunnel_couplings = np.zeros((N,N))\n",
    "tunnel_couplings[0,1] = 50*1e-6\n",
    "tunnel_couplings[1,0] = 50*1e-6"
   ]
  },
  {
   "cell_type": "code",
   "execution_count": 102,
   "metadata": {},
   "outputs": [
    {
     "data": {
      "text/plain": [
       "array([[ 0.92677769,  0.08721563,  0.98296426],\n",
       "       [ 0.10204479,  0.88903077,  1.11260767],\n",
       "       [ 1.05452317,  1.00292767, 16.46121578]])"
      ]
     },
     "execution_count": 102,
     "metadata": {},
     "output_type": "execute_result"
    }
   ],
   "source": [
    "C_DG"
   ]
  },
  {
   "cell_type": "code",
   "execution_count": 103,
   "metadata": {},
   "outputs": [],
   "source": [
    "\n",
    "capacitance_config = {\n",
    "        \"C_DD\" : C_DD,  #dot-dot capacitance matrix\n",
    "        \"C_Dg\" : C_DG,  #dot-gate capacitance matrix\n",
    "        \"ks\" : None,       #distortion of Coulomb peaks. NOTE: If None -> constant size of Coublomb peak \n",
    "}\n",
    "\n",
    "tunneling_config = {\n",
    "        \"tunnel_couplings\": tunnel_couplings, #tunnel coupling matrix\n",
    "        \"temperature\": 0.2,                   #temperature in Kelvin\n",
    "        \"energy_range_factor\": 5,  #energy scale for the Hamiltonian generation. NOTE: Smaller -> faster but less accurate computation \n",
    "}\n",
    "\n",
    "sensor_config = {\n",
    "        \"sensor_dot_indices\": [2],  #Indices of the sensor dots\n",
    "        \"sensor_detunings\": [-0.002],  #Detuning of the sensor dots\n",
    "        \"noise_amplitude\": {\"fast_noise\": 0.8*1e-6, \"slow_noise\": 1e-8}, #Noise amplitude for the sensor dots in eV\n",
    "        \"peak_width_multiplier\": 15,  #Width of the sensor peaks in the units of thermal broadening m *kB*T/0.61.\n",
    "}"
   ]
  },
  {
   "cell_type": "code",
   "execution_count": 104,
   "metadata": {},
   "outputs": [
    {
     "name": "stdout",
     "output_type": "stream",
     "text": [
      "EXPERIMENT INITIALIZED\n",
      "-----------------------\n",
      "\n",
      "                Capacitance model deployed with the following parameters:\n",
      "                Dot-dot capacitances: \n",
      "                [[12.04426693  0.92136943  0.92136943]\n",
      " [ 0.92136943 11.94473274  0.92136943]\n",
      " [ 0.92136943  0.92136943 19.44003606]]\n",
      "                Dot-gate capacitances: \n",
      "                [[ 0.92677769  0.08721563  0.98296426]\n",
      " [ 0.10204479  0.88903077  1.11260767]\n",
      " [ 1.05452317  1.00292767 16.46121578]]\n",
      "                Size of Coulomb peaks V[n] is constant\n",
      "                \n",
      "\n",
      "            Sensor model deployed with the following parameters:   \n",
      "            Sensor dot indices: [2]\n",
      "            Sensor detunings: [-2.] meV\n",
      "            Coulomb peak width: 0.82 meV\n",
      "            Slow noise amplitude: 0.01 ueV\n",
      "            Fast noise amplitude: 0.8 ueV\n",
      "            \n",
      "\n",
      "            Tunneling model deployed with the following parameters:\n",
      "            Tunneling matrix:\n",
      "            [[0.e+00 5.e-05 0.e+00]\n",
      " [5.e-05 0.e+00 0.e+00]\n",
      " [0.e+00 0.e+00 0.e+00]]\n",
      "            Temperature: 0.2 K\n",
      "            Energy range factor: 5\n",
      "            \n"
     ]
    }
   ],
   "source": [
    "experiment = Experiment(capacitance_config=capacitance_config, \n",
    "                        tunneling_config=tunneling_config, \n",
    "                        sensor_config=sensor_config)"
   ]
  },
  {
   "cell_type": "code",
   "execution_count": 105,
   "metadata": {},
   "outputs": [
    {
     "name": "stdout",
     "output_type": "stream",
     "text": [
      "EXPERIMENT INITIALIZED\n",
      "-----------------------\n",
      "\n",
      "                Capacitance model deployed with the following parameters:\n",
      "                Dot-dot capacitances: \n",
      "                [[12.04426693  0.92136943  0.92136943]\n",
      " [ 0.92136943 11.94473274  0.92136943]\n",
      " [ 0.92136943  0.92136943 19.44003606]]\n",
      "                Dot-gate capacitances: \n",
      "                [[ 0.92677769  0.08721563  0.98296426]\n",
      " [ 0.10204479  0.88903077  1.11260767]\n",
      " [ 1.05452317  1.00292767 16.46121578]]\n",
      "                Size of Coulomb peaks V[n] is constant\n",
      "                \n",
      "\n",
      "            Sensor model deployed with the following parameters:   \n",
      "            Sensor dot indices: [2]\n",
      "            Sensor detunings: [-2.] meV\n",
      "            Coulomb peak width: 0.82 meV\n",
      "            Slow noise amplitude: 0.01 ueV\n",
      "            Fast noise amplitude: 0.8 ueV\n",
      "            \n",
      "\n",
      "            Tunneling model deployed with the following parameters:\n",
      "            Tunneling matrix:\n",
      "            [[0.e+00 5.e-05 0.e+00]\n",
      " [5.e-05 0.e+00 0.e+00]\n",
      " [0.e+00 0.e+00 0.e+00]]\n",
      "            Temperature: 0.2 K\n",
      "            Energy range factor: 5\n",
      "            \n"
     ]
    }
   ],
   "source": [
    "experiment = Experiment(capacitance_config=capacitance_config, \n",
    "                        tunneling_config=tunneling_config, \n",
    "                        sensor_config=sensor_config)"
   ]
  },
  {
   "cell_type": "code",
   "execution_count": 110,
   "metadata": {},
   "outputs": [
    {
     "name": "stdout",
     "output_type": "stream",
     "text": [
      "v_offset found: [0.03659557 0.03046031]\n"
     ]
    }
   ],
   "source": [
    "xexp, yexp, _, polytopesexp, sensor_signalexp, _ = experiment.generate_CSD(\n",
    "                                                plane_axes = np.array([[1,0,0],[0,1,0]]), # vectors spanning the cut in voltage space\n",
    "                                                target_state = [1,0,5],  # target state for transition\n",
    "                                                target_transition = [-1,1,0], #target transition from target state, here transition to [2,3,2,3,5,5]\n",
    "                                                x_voltages=np.linspace(-0.02, 0.2, 100), #voltage range for x-axis\n",
    "                                                y_voltages=np.linspace(-0.02, 0.2, 100), #voltage range for y-axis\n",
    "                                                compute_polytopes = True,\n",
    "                                                compensate_sensors=True, #compensate the sensors\n",
    "                                                 #compute the corners of constant occupation\n",
    "                                                use_sensor_signal=True) #use the sensor signals"
   ]
  },
  {
   "cell_type": "code",
   "execution_count": 111,
   "metadata": {},
   "outputs": [
    {
     "data": {
      "text/plain": [
       "(<Figure size 256x256 with 1 Axes>, <Axes: >)"
      ]
     },
     "execution_count": 111,
     "metadata": {},
     "output_type": "execute_result"
    },
    {
     "data": {
      "image/png": "[encoded data removed]",
      "text/plain": [
       "<Figure size 256x256 with 1 Axes>"
      ]
     },
     "metadata": {},
     "output_type": "display_data"
    }
   ],
   "source": [
    "%matplotlib inline\n",
    "u.plot_CSD(xexp, yexp, sensor_signalexp[:,:,0], polytopesexp)\n"
   ]
  },
  {
   "cell_type": "code",
   "execution_count": 8,
   "metadata": {},
   "outputs": [
    {
     "data": {
      "text/plain": [
       "<Figure size 256x256 with 1 Axes>"
      ]
     },
     "execution_count": 8,
     "metadata": {},
     "output_type": "execute_result"
    }
   ],
   "source": [
    "plot"
   ]
  },
  {
   "cell_type": "code",
   "execution_count": 7,
   "metadata": {},
   "outputs": [
    {
     "data": {
      "text/plain": [
       "<Axes: >"
      ]
     },
     "execution_count": 7,
     "metadata": {},
     "output_type": "execute_result"
    }
   ],
   "source": [
    "ax"
   ]
  },
  {
   "cell_type": "code",
   "execution_count": null,
   "metadata": {},
   "outputs": [],
   "source": []
  }
 ],
 "metadata": {
  "kernelspec": {
   "display_name": "py39",
   "language": "python",
   "name": "python3"
  },
  "language_info": {
   "codemirror_mode": {
    "name": "ipython",
    "version": 3
   },
   "file_extension": ".py",
   "mimetype": "text/x-python",
   "name": "python",
   "nbconvert_exporter": "python",
   "pygments_lexer": "ipython3",
   "version": "3.9.19"
  }
 },
 "nbformat": 4,
 "nbformat_minor": 2
}
