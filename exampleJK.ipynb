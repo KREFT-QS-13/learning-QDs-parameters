{
 "cells": [
  {
   "cell_type": "code",
   "execution_count": null,
   "metadata": {},
   "outputs": [
    {
     "ename": "ModuleNotFoundError",
     "evalue": "No module named 'h5py'",
     "output_type": "error",
     "traceback": [
      "\u001b[0;31m---------------------------------------------------------------------------\u001b[0m",
      "\u001b[0;31mModuleNotFoundError\u001b[0m                       Traceback (most recent call last)",
      "Cell \u001b[0;32mIn[2], line 13\u001b[0m\n\u001b[1;32m     10\u001b[0m \u001b[38;5;28;01mimport\u001b[39;00m \u001b[38;5;21;01mmatplotlib\u001b[39;00m\u001b[38;5;21;01m.\u001b[39;00m\u001b[38;5;21;01mgridspec\u001b[39;00m \u001b[38;5;28;01mas\u001b[39;00m \u001b[38;5;21;01mgridspec\u001b[39;00m\n\u001b[1;32m     12\u001b[0m \u001b[38;5;28;01mimport\u001b[39;00m \u001b[38;5;21;01mutilities\u001b[39;00m\u001b[38;5;21;01m.\u001b[39;00m\u001b[38;5;21;01mconfig\u001b[39;00m \u001b[38;5;28;01mas\u001b[39;00m \u001b[38;5;21;01mc\u001b[39;00m\n\u001b[0;32m---> 13\u001b[0m \u001b[38;5;28;01mimport\u001b[39;00m \u001b[38;5;21;01mutilities\u001b[39;00m\u001b[38;5;21;01m.\u001b[39;00m\u001b[38;5;21;01mutils\u001b[39;00m  \u001b[38;5;28;01mas\u001b[39;00m \u001b[38;5;21;01mu\u001b[39;00m\n\u001b[1;32m     14\u001b[0m \u001b[38;5;28;01mimport\u001b[39;00m \u001b[38;5;21;01mutilities\u001b[39;00m\u001b[38;5;21;01m.\u001b[39;00m\u001b[38;5;21;01mmodel_utils\u001b[39;00m  \u001b[38;5;28;01mas\u001b[39;00m \u001b[38;5;21;01mmu\u001b[39;00m\n\u001b[1;32m     16\u001b[0m \u001b[38;5;66;03m#import torch\u001b[39;00m\n",
      "File \u001b[0;32m~/Documents/Repositories/learning-QDs-parameters/utilities/utils.py:15\u001b[0m\n\u001b[1;32m     13\u001b[0m \u001b[38;5;28;01mimport\u001b[39;00m \u001b[38;5;21;01mshutil\u001b[39;00m\n\u001b[1;32m     14\u001b[0m \u001b[38;5;28;01mimport\u001b[39;00m \u001b[38;5;21;01mre\u001b[39;00m\n\u001b[0;32m---> 15\u001b[0m \u001b[38;5;28;01mimport\u001b[39;00m \u001b[38;5;21;01mh5py\u001b[39;00m\n\u001b[1;32m     16\u001b[0m \u001b[38;5;28;01mimport\u001b[39;00m \u001b[38;5;21;01mjson\u001b[39;00m\n\u001b[1;32m     18\u001b[0m sys\u001b[38;5;241m.\u001b[39mpath\u001b[38;5;241m.\u001b[39mappend(\u001b[38;5;124m'\u001b[39m\u001b[38;5;124m./qdarts\u001b[39m\u001b[38;5;124m'\u001b[39m)\n",
      "\u001b[0;31mModuleNotFoundError\u001b[0m: No module named 'h5py'"
     ]
    }
   ],
   "source": [
    "import sys\n",
    "sys.path.append('./qdarts')\n",
    "\n",
    "from qdarts.experiment import Experiment\n",
    "from qdarts.plotting import plot_polytopes\n",
    "\n",
    "import numpy as np\n",
    "import math\n",
    "import matplotlib.pyplot as plt\n",
    "import matplotlib.gridspec as gridspec\n",
    "\n",
    "\n",
    "#import torch\n"
   ]
  },
  {
   "cell_type": "code",
   "execution_count": 3,
   "metadata": {},
   "outputs": [],
   "source": [
    "C_DD, C_DG = u.generate_capacitance_matrices()\n",
    "tcs = np.zeros((c.K,c.K))\n",
    "# tcs[0,1] = 50*1e-6\n",
    "# tcs[1,0] = 50*1e-6\n",
    "\n",
    "capacitance_config = {\n",
    "        \"C_DD\" : C_DD,  #dot-dot capacitance matrix\n",
    "        \"C_Dg\" : C_DG,  #dot-gate capacitance matrix\n",
    "        \"ks\" : None,       #distortion of Coulomb peaks. NOTE: If None -> constant size of Coublomb peak \n",
    "}\n",
    "\n",
    "tunneling_config = {\n",
    "        \"tunnel_couplings\": tcs, #tunnel coupling matrix\n",
    "        \"temperature\": 0.1,                   #temperature in Kelvin\n",
    "        \"energy_range_factor\": 5,  #energy scale for the Hamiltonian generation. NOTE: Smaller -> faster but less accurate computation \n",
    "}\n",
    "\n",
    "sensor_config = {\n",
    "        \"sensor_dot_indices\": [1],  #Indices of the sensor dots\n",
    "        \"sensor_detunings\": [-0.0005],  #Detuning of the sensor dots\n",
    "        \"noise_amplitude\": {\"fast_noise\": 0.8*1e-6, \"slow_noise\": 1e-8}, #Noise amplitude for the sensor dots in eV\n",
    "        \"peak_width_multiplier\": 15,  #Width of the sensor peaks in the units of thermal broadening m *kB*T/0.61.\n",
    "}\n"
   ]
  },
  {
   "cell_type": "code",
   "execution_count": 4,
   "metadata": {},
   "outputs": [
    {
     "name": "stdout",
     "output_type": "stream",
     "text": [
      "EXPERIMENT INITIALIZED\n",
      "-----------------------\n",
      "\n",
      "                Capacitance model deployed with the following parameters:\n",
      "                Dot-dot capacitances: \n",
      "                [[11.81655272  0.85889783  0.85889783]\n",
      " [ 0.85889783 11.17784802  0.85889783]\n",
      " [ 0.85889783  0.85889783  9.4116185 ]]\n",
      "                Dot-gate capacitances: \n",
      "                [[8.70135598 1.21190253 1.04439638]\n",
      " [0.77253202 8.73935941 0.80705876]\n",
      " [1.00209725 0.79532171 6.7553017 ]]\n",
      "                Size of Coulomb peaks V[n] is constant\n",
      "                \n",
      "\n",
      "            Sensor model deployed with the following parameters:   \n",
      "            Sensor dot indices: [1]\n",
      "            Sensor detunings: [-0.5] meV\n",
      "            Coulomb peak width: 0.41 meV\n",
      "            Slow noise amplitude: 0.01 ueV\n",
      "            Fast noise amplitude: 0.8 ueV\n",
      "            \n",
      "\n",
      "            Tunneling model deployed with the following parameters:\n",
      "            Tunneling matrix:\n",
      "            [[1.e-20 1.e-20 1.e-20]\n",
      " [1.e-20 1.e-20 1.e-20]\n",
      " [1.e-20 1.e-20 1.e-20]]\n",
      "            Temperature: 0.1 K\n",
      "            Energy range factor: 5\n",
      "            \n"
     ]
    }
   ],
   "source": [
    "experiment = Experiment(capacitance_config=capacitance_config, \n",
    "                        tunneling_config=tunneling_config, \n",
    "                        sensor_config=sensor_config)"
   ]
  },
  {
   "cell_type": "code",
   "execution_count": 5,
   "metadata": {},
   "outputs": [
    {
     "name": "stderr",
     "output_type": "stream",
     "text": [
      "d:\\!!!_PDF\\Fizyka i matma studia\\!!!_Leiden\\!! projekty 2024_25\\Evert van Niewenburg\\potencial projects\\Qdarts projects\\qdarts_code\\learning_parameters\\./qdarts\\tunneling_simulator.py:116: RuntimeWarning: invalid value encountered in scalar divide\n",
      "  results[i] = np.sum(p*np.mean(g,axis=1))/np.sum(p)\n"
     ]
    }
   ],
   "source": [
    "xks, yks, csd_dataks, polytopesks, sensor_signalexp, _ = experiment.generate_CSD(\n",
    "                                        x_voltages = np.linspace(0, 0.03, 250),  #V\n",
    "                                        y_voltages = np.linspace(0, 0.03, 250),  #V\n",
    "                                        plane_axes = [[1,0,0], [0,0,1]], #NOTE: with defauls use_virtual_gates = False, this means voltages.\n",
    "                                        compute_polytopes = True,\n",
    "                                        use_virtual_gates = False,\n",
    "                                        use_sensor_signal=True)    "
   ]
  },
  {
   "cell_type": "code",
   "execution_count": 6,
   "metadata": {},
   "outputs": [],
   "source": [
    "plot, ax = u.plot_CSD(xks, yks, sensor_signalexp[:,:,0], polytopesks)\n"
   ]
  },
  {
   "cell_type": "code",
   "execution_count": 8,
   "metadata": {},
   "outputs": [
    {
     "data": {
      "text/plain": [
       "<Figure size 256x256 with 1 Axes>"
      ]
     },
     "execution_count": 8,
     "metadata": {},
     "output_type": "execute_result"
    }
   ],
   "source": [
    "plot"
   ]
  },
  {
   "cell_type": "code",
   "execution_count": 7,
   "metadata": {},
   "outputs": [
    {
     "data": {
      "text/plain": [
       "<Axes: >"
      ]
     },
     "execution_count": 7,
     "metadata": {},
     "output_type": "execute_result"
    }
   ],
   "source": [
    "ax"
   ]
  },
  {
   "cell_type": "code",
   "execution_count": null,
   "metadata": {},
   "outputs": [],
   "source": []
  }
 ],
 "metadata": {
  "kernelspec": {
   "display_name": "py39",
   "language": "python",
   "name": "python3"
  },
  "language_info": {
   "codemirror_mode": {
    "name": "ipython",
    "version": 3
   },
   "file_extension": ".py",
   "mimetype": "text/x-python",
   "name": "python",
   "nbconvert_exporter": "python",
   "pygments_lexer": "ipython3",
   "version": "3.9.19"
  }
 },
 "nbformat": 4,
 "nbformat_minor": 2
}
