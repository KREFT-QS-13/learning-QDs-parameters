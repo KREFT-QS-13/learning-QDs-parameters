{
 "cells": [
  {
   "cell_type": "code",
   "execution_count": 6,
   "metadata": {},
   "outputs": [
    {
     "name": "stdout",
     "output_type": "stream",
     "text": [
      "Collecting h5py\n",
      "  Downloading h5py-3.12.1-cp39-cp39-macosx_10_9_x86_64.whl.metadata (2.5 kB)\n",
      "Requirement already satisfied: numpy>=1.19.3 in /opt/anaconda3/envs/py39/lib/python3.9/site-packages (from h5py) (1.26.4)\n",
      "Downloading h5py-3.12.1-cp39-cp39-macosx_10_9_x86_64.whl (3.4 MB)\n",
      "\u001b[2K   \u001b[90m━━━━━━━━━━━━━━━━━━━━━━━━━━━━━━━━━━━━━━━━\u001b[0m \u001b[32m3.4/3.4 MB\u001b[0m \u001b[31m18.0 MB/s\u001b[0m eta \u001b[36m0:00:00\u001b[0ma \u001b[36m0:00:01\u001b[0m\n",
      "\u001b[?25hInstalling collected packages: h5py\n",
      "Successfully installed h5py-3.12.1\n"
     ]
    }
   ],
   "source": [
    "! pip3 install h5py"
   ]
  },
  {
   "cell_type": "code",
   "execution_count": 1,
   "metadata": {},
   "outputs": [],
   "source": [
    "import sys\n",
    "sys.path.append('./qdarts')\n",
    "\n",
    "from qdarts.experiment import Experiment\n",
    "from qdarts.plotting import plot_polytopes\n",
    "\n",
    "\n",
    "\n",
    "import numpy as np\n",
    "import math\n",
    "import matplotlib.pyplot as plt\n",
    "import matplotlib.gridspec as gridspec\n",
    "\n",
    "import utilities.config as c\n",
    "import utilities.utils  as u\n",
    "#import torch\n"
   ]
  },
  {
   "cell_type": "code",
   "execution_count": 166,
   "metadata": {},
   "outputs": [],
   "source": [
    "# Define the system\n",
    "c.set_global_K(3)\n",
    "C_DD, C_DG = u.generate_capacitance_matrices()\n",
    "tcs = np.zeros((c.K,c.K))\n",
    "#All capacitances are given in aF\n",
    "N = 3 #number of dots   \n",
    "\n",
    "C_DG[2,0:2] /= 100\n",
    "C_DG[0:2,2] /= 100\n",
    "\n",
    "C_DD[2,0:2] /= 5\n",
    "C_DD[0:2,2] /= 5\n",
    "# Definition of the tunnel couplings in eV \n",
    "# NOTE: we use the convention that tc is the energy gap at avoided crossing H = tc/2 sx\n",
    "tunnel_couplings = np.zeros((N,N))\n",
    "tunnel_couplings[0,1] = 100*1e-6\n",
    "tunnel_couplings[1,0] = 100*1e-6"
   ]
  },
  {
   "cell_type": "code",
   "execution_count": 167,
   "metadata": {},
   "outputs": [
    {
     "data": {
      "text/plain": [
       "array([[1.14578823e+01, 7.99689300e-01, 1.05271230e-02],\n",
       "       [1.20333701e+00, 6.65609892e+00, 1.07271051e-02],\n",
       "       [7.54216765e-03, 7.33564829e-03, 1.79562185e+01]])"
      ]
     },
     "execution_count": 167,
     "metadata": {},
     "output_type": "execute_result"
    }
   ],
   "source": [
    "C_DG"
   ]
  },
  {
   "cell_type": "code",
   "execution_count": 168,
   "metadata": {},
   "outputs": [],
   "source": [
    "\n",
    "capacitance_config = {\n",
    "        \"C_DD\" : C_DD,  #dot-dot capacitance matrix\n",
    "        \"C_Dg\" : C_DG,  #dot-gate capacitance matrix\n",
    "        \"ks\" : None,       #distortion of Coulomb peaks. NOTE: If None -> constant size of Coublomb peak \n",
    "}\n",
    "\n",
    "tunneling_config = {\n",
    "        \"tunnel_couplings\": tunnel_couplings, #tunnel coupling matrix\n",
    "        \"temperature\": 0.1,                   #temperature in Kelvin\n",
    "        \"energy_range_factor\": 5,  #energy scale for the Hamiltonian generation. NOTE: Smaller -> faster but less accurate computation \n",
    "}\n",
    "\n",
    "sensor_config = {\n",
    "        \"sensor_dot_indices\": [2],  #Indices of the sensor dots\n",
    "        \"sensor_detunings\": [-0.02],  #Detuning of the sensor dots\n",
    "        \"noise_amplitude\": {\"fast_noise\": 0.8*1e-5, \"slow_noise\": 2*1e-5}, #Noise amplitude for the sensor dots in eV\n",
    "        \"peak_width_multiplier\": 25,  #Width of the sensor peaks in the units of thermal broadening m *kB*T/0.61.\n",
    "}"
   ]
  },
  {
   "cell_type": "code",
   "execution_count": 169,
   "metadata": {},
   "outputs": [
    {
     "name": "stdout",
     "output_type": "stream",
     "text": [
      "EXPERIMENT INITIALIZED\n",
      "-----------------------\n",
      "\n",
      "                Capacitance model deployed with the following parameters:\n",
      "                Dot-dot capacitances: \n",
      "                [[14.11772344  0.8074395   0.1614879 ]\n",
      " [ 0.8074395   9.73958594  0.1614879 ]\n",
      " [ 0.1614879   0.1614879  20.2514396 ]]\n",
      "                Dot-gate capacitances: \n",
      "                [[1.14578823e+01 7.99689300e-01 1.05271230e-02]\n",
      " [1.20333701e+00 6.65609892e+00 1.07271051e-02]\n",
      " [7.54216765e-03 7.33564829e-03 1.79562185e+01]]\n",
      "                Size of Coulomb peaks V[n] is constant\n",
      "                \n",
      "\n",
      "            Sensor model deployed with the following parameters:   \n",
      "            Sensor dot indices: [2]\n",
      "            Sensor detunings: [-20.] meV\n",
      "            Coulomb peak width: 0.68 meV\n",
      "            Slow noise amplitude: 20.0 ueV\n",
      "            Fast noise amplitude: 8.0 ueV\n",
      "            \n",
      "\n",
      "            Tunneling model deployed with the following parameters:\n",
      "            Tunneling matrix:\n",
      "            [[0.e+00 1.e-04 0.e+00]\n",
      " [1.e-04 0.e+00 0.e+00]\n",
      " [0.e+00 0.e+00 0.e+00]]\n",
      "            Temperature: 0.1 K\n",
      "            Energy range factor: 5\n",
      "            \n"
     ]
    }
   ],
   "source": [
    "experiment = Experiment(capacitance_config=capacitance_config, \n",
    "                        tunneling_config=tunneling_config, \n",
    "                        sensor_config=sensor_config)"
   ]
  },
  {
   "cell_type": "code",
   "execution_count": 170,
   "metadata": {},
   "outputs": [
    {
     "name": "stdout",
     "output_type": "stream",
     "text": [
      "EXPERIMENT INITIALIZED\n",
      "-----------------------\n",
      "\n",
      "                Capacitance model deployed with the following parameters:\n",
      "                Dot-dot capacitances: \n",
      "                [[14.11772344  0.8074395   0.1614879 ]\n",
      " [ 0.8074395   9.73958594  0.1614879 ]\n",
      " [ 0.1614879   0.1614879  20.2514396 ]]\n",
      "                Dot-gate capacitances: \n",
      "                [[1.14578823e+01 7.99689300e-01 1.05271230e-02]\n",
      " [1.20333701e+00 6.65609892e+00 1.07271051e-02]\n",
      " [7.54216765e-03 7.33564829e-03 1.79562185e+01]]\n",
      "                Size of Coulomb peaks V[n] is constant\n",
      "                \n",
      "\n",
      "            Sensor model deployed with the following parameters:   \n",
      "            Sensor dot indices: [2]\n",
      "            Sensor detunings: [-20.] meV\n",
      "            Coulomb peak width: 0.68 meV\n",
      "            Slow noise amplitude: 20.0 ueV\n",
      "            Fast noise amplitude: 8.0 ueV\n",
      "            \n",
      "\n",
      "            Tunneling model deployed with the following parameters:\n",
      "            Tunneling matrix:\n",
      "            [[0.e+00 1.e-04 0.e+00]\n",
      " [1.e-04 0.e+00 0.e+00]\n",
      " [0.e+00 0.e+00 0.e+00]]\n",
      "            Temperature: 0.1 K\n",
      "            Energy range factor: 5\n",
      "            \n"
     ]
    }
   ],
   "source": [
    "experiment = Experiment(capacitance_config=capacitance_config, \n",
    "                        tunneling_config=tunneling_config, \n",
    "                        sensor_config=sensor_config)"
   ]
  },
  {
   "cell_type": "code",
   "execution_count": null,
   "metadata": {},
   "outputs": [
    {
     "name": "stdout",
     "output_type": "stream",
     "text": [
      "v_offset found: [0.00620797 0.01085564 0.04516712]\n"
     ]
    }
   ],
   "source": [
    "dvmax = 0.01\n",
    "dvmin = 0.02\n",
    "v0, v1 = -np.random.uniform(dvmin,0.01,size = 2)\n",
    "\n",
    "xexp, yexp, _, polytopesexp, sensor_signalexp, _ = experiment.generate_CSD(\n",
    "                                                plane_axes = np.array([[1,0,0],[0,1,0]]), # vectors spanning the cut in voltage space\n",
    "                                                target_state = [1,0,5],  # target state for transition\n",
    "                                                target_transition = [-1,1,0], #target transition from target state, here transition to [2,3,2,3,5,5]\n",
    "                                                x_voltages=np.linspace(v0, 0.015, 100), #voltage range for x-axis\n",
    "                                                y_voltages=np.linspace(v1, 0.015, 100), #voltage range for y-axis\n",
    "                                                compute_polytopes = True,\n",
    "                                                #compensate_sensors=True, #compensate the sensors\n",
    "                                                 #compute the corners of constant occupation\n",
    "                                                use_sensor_signal=True) #use the sensor signals\n",
    "\n",
    "xexp += v0\n",
    "yexp += v1"
   ]
  },
  {
   "cell_type": "code",
   "execution_count": 172,
   "metadata": {},
   "outputs": [
    {
     "data": {
      "text/plain": [
       "(<Figure size 256x256 with 1 Axes>, <Axes: >)"
      ]
     },
     "execution_count": 172,
     "metadata": {},
     "output_type": "execute_result"
    },
    {
     "data": {
      "image/png": "[encoded data removed]",
      "text/plain": [
       "<Figure size 256x256 with 1 Axes>"
      ]
     },
     "metadata": {},
     "output_type": "display_data"
    }
   ],
   "source": [
    "%matplotlib inline\n",
    "u.plot_CSD(xexp, yexp, sensor_signalexp[:,:,0], polytopesexp)\n"
   ]
  },
  {
   "cell_type": "code",
   "execution_count": 8,
   "metadata": {},
   "outputs": [
    {
     "data": {
      "text/plain": [
       "<Figure size 256x256 with 1 Axes>"
      ]
     },
     "execution_count": 8,
     "metadata": {},
     "output_type": "execute_result"
    }
   ],
   "source": [
    "plot"
   ]
  },
  {
   "cell_type": "code",
   "execution_count": 7,
   "metadata": {},
   "outputs": [
    {
     "data": {
      "text/plain": [
       "<Axes: >"
      ]
     },
     "execution_count": 7,
     "metadata": {},
     "output_type": "execute_result"
    }
   ],
   "source": [
    "ax"
   ]
  },
  {
   "cell_type": "code",
   "execution_count": null,
   "metadata": {},
   "outputs": [],
   "source": []
  }
 ],
 "metadata": {
  "kernelspec": {
   "display_name": "py39",
   "language": "python",
   "name": "python3"
  },
  "language_info": {
   "codemirror_mode": {
    "name": "ipython",
    "version": 3
   },
   "file_extension": ".py",
   "mimetype": "text/x-python",
   "name": "python",
   "nbconvert_exporter": "python",
   "pygments_lexer": "ipython3",
   "version": "3.9.19"
  }
 },
 "nbformat": 4,
 "nbformat_minor": 2
}
