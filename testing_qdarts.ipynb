{
 "cells": [
  {
   "cell_type": "code",
   "execution_count": 4,
   "metadata": {},
   "outputs": [],
   "source": [
    "import sys\n",
    "sys.path.append('./qdarts')\n",
    "\n",
    "from experiment import Experiment\n",
    "from plotting import plot_polytopes\n",
    "\n",
    "import numpy as np\n",
    "import matplotlib.pyplot as plt\n",
    "import matplotlib.gridspec as gridspec\n",
    "import utilities as u"
   ]
  },
  {
   "cell_type": "code",
   "execution_count": 2,
   "metadata": {},
   "outputs": [],
   "source": [
    "# tunnel_couplings = np.zeros((N,N))\n",
    "# tunnel_couplings[0,1] = 50*1e-6\n",
    "# tunnel_couplings[1,0] = 50*1e-6\n",
    "# # tunnel_couplings[2,3] = 60*1e-6\n",
    "\n",
    "# # tunnel_couplings[3,2] = 60*1e-6"
   ]
  },
  {
   "cell_type": "code",
   "execution_count": 2,
   "metadata": {},
   "outputs": [],
   "source": [
    "N=2\n",
    "max_value = 10\n",
    "C_DD = np.random.uniform(0, max_value, size=(N, N))\n",
    "C_DG = np.random.uniform(0, max_value, size=(N, N))\n",
    "\n",
    "\n",
    "def generate_capacities_matrices(K):\n",
    "    mean = 5.5 #aF\n",
    "    std = 0.15*mean\n",
    "    C_DD, C_Dg = np.random.normal(mean, std, (K,K)), np.random.normal(2*mean, std, (K,K))\n",
    "    for i in range(K):\n",
    "        C_DD[i,i] = np.random.normal(3*mean, std)\n",
    "    C_DD = (C_DD + C_DD.T)/2\n",
    "    \n",
    "    return C_DD, C_Dg"
   ]
  },
  {
   "cell_type": "code",
   "execution_count": 150,
   "metadata": {},
   "outputs": [],
   "source": [
    "# tunneling_config = {\n",
    "#         \"tunnel_couplings\": tunnel_couplings, #tunnel coupling matrix\n",
    "#         \"temperature\": 0.1,                   #temperature in Kelvin\n",
    "#         \"energy_range_factor\": 5,  #energy scale for the Hamiltonian generation. NOTE: Smaller -> faster but less accurate computation \n",
    "# }\n",
    "# sensor_config = {\n",
    "#         \"sensor_dot_indices\": [4,5],  #Indices of the sensor dots\n",
    "#         \"sensor_detunings\": [-0.0005,-0.0005],  #Detuning of the sensor dots\n",
    "#         \"noise_amplitude\": {\"fast_noise\": 0.8*1e-6, \"slow_noise\": 1e-8}, #Noise amplitude for the sensor dots in eV\n",
    "#         \"peak_width_multiplier\": 15,  #Width of the sensor peaks in the units of thermal broadening m *kB*T/0.61.\n",
    "# }\n",
    "\n",
    "# experiment = Experiment(capacitance_config, tunneling_config, sensor_config)\n",
    "\n"
   ]
  },
  {
   "cell_type": "code",
   "execution_count": 234,
   "metadata": {},
   "outputs": [],
   "source": [
    "def generate_CSD_graph(experiment, x_vol, y_vol):\n",
    "    xks, yks, csd_dataks, polytopesks, _, _ = experiment.generate_CSD(\n",
    "                                                x_voltages = x_vol,  #V\n",
    "                                                y_voltages = y_vol,  #V\n",
    "                                                plane_axes = [[1,0],[0,1]], #NOTE: with defauls use_virtual_gates = False, this means voltages.\n",
    "                                                compute_polytopes = True,\n",
    "                                                use_virtual_gates = False)    \n",
    "        \n",
    "    # Create a figure\n",
    "    fig, ax = plt.subplots(figsize=(2.56, 2.56), dpi=100) # 256x256 pixels\n",
    "\n",
    "    ax.pcolormesh(1e3*xks,1e3*yks,csd_dataks) #plot the background\n",
    "    plot_polytopes(ax, polytopesks, axes_rescale = 1e3, only_edges=True) #plot the polytopes\n",
    "\n",
    "    # plot customisation\n",
    "    # ax.set_xlabel('Relative Voltage $v_0$ (mV)')\n",
    "    # ax.set_ylabel('Relative Voltage $v_1$ (mV)')\n",
    "    ax.set_xlim(xks[0]*1e3,xks[-1]*1e3)\n",
    "    ax.set_ylim(yks[0]*1e3,yks[-1]*1e3)\n",
    "    \n",
    "    ax.set_axis_off()\n",
    "    plt.subplots_adjust(left=0, right=1, top=1, bottom=0)\n",
    "    \n",
    "\n",
    "    return fig, ax"
   ]
  },
  {
   "cell_type": "code",
   "execution_count": 238,
   "metadata": {},
   "outputs": [
    {
     "name": "stdout",
     "output_type": "stream",
     "text": [
      "EXPERIMENT INITIALIZED\n",
      "-----------------------\n",
      "\n",
      "                Capacitance model deployed with the following parameters:\n",
      "                Dot-dot capacitances: \n",
      "                [[1. 0.]\n",
      " [0. 1.]]\n",
      "                Dot-gate capacitances: \n",
      "                [[1. 0.]\n",
      " [0. 1.]]\n",
      "                Size of Coulomb peaks V[n] is constant\n",
      "                \n"
     ]
    }
   ],
   "source": [
    "C_DD, C_DG = generate_capacities_matrices(2)\n",
    "\n",
    "C_DD = np.identity(2)\n",
    "C_DG = np.identity(2)\n",
    "\n",
    "capacitance_config = {\n",
    "        \"C_DD\" : C_DD,  #dot-dot capacitance matrix\n",
    "        \"C_Dg\" : C_DG,  #dot-gate capacitance matrix\n",
    "        \"ks\" : 0,       #distortion of Coulomb peaks. NOTE: If None -> constant size of Coublomb peak \n",
    "}\n",
    "experiment = Experiment(capacitance_config)"
   ]
  },
  {
   "cell_type": "code",
   "execution_count": 239,
   "metadata": {},
   "outputs": [],
   "source": [
    "x_vol = np.linspace(0, 0.1, 500)\n",
    "y_vol = np.linspace(0, 0.1, 500)"
   ]
  },
  {
   "cell_type": "code",
   "execution_count": 241,
   "metadata": {},
   "outputs": [
    {
     "data": {
      "image/png": "[encoded data removed]",
      "text/plain": [
       "<Figure size 256x256 with 1 Axes>"
      ]
     },
     "metadata": {},
     "output_type": "display_data"
    }
   ],
   "source": [
    "fig, ax = generate_CSD_graph(experiment, x_vol, y_vol)"
   ]
  },
  {
   "cell_type": "code",
   "execution_count": 34,
   "metadata": {},
   "outputs": [],
   "source": [
    "fig.savefig('datasets/test2.png')"
   ]
  },
  {
   "cell_type": "code",
   "execution_count": 37,
   "metadata": {},
   "outputs": [],
   "source": [
    "from PIL import Image\n",
    "import torchvision.transforms as transforms\n",
    "import torch\n",
    "\n",
    "# Load the image from the file\n",
    "image = Image.open(\"datasets/test2.png\")\n",
    "\n",
    "# Define a transformation to convert it to a PyTorch tensor\n",
    "transform = transforms.Compose([\n",
    "    transforms.Resize((256, 256)),  # Resize the image if needed\n",
    "    transforms.ToTensor(),          # Convert the image to a tensor\n",
    "])\n",
    "\n",
    "# Apply the transformation\n",
    "image_tensor = transform(image)\n",
    "\n",
    "# Add batch dimension (required for CNN input)\n",
    "# image_tensor = image_tensor.unsqueeze(0)  # Shape: (1, 3, 128, 128)\n",
    "\n",
    "# print(image_tensor.shape)  # (Batch Size, Channels, Height, Width)"
   ]
  },
  {
   "cell_type": "code",
   "execution_count": 4,
   "metadata": {},
   "outputs": [
    {
     "ename": "NameError",
     "evalue": "name 'ax' is not defined",
     "output_type": "error",
     "traceback": [
      "\u001b[1;31m---------------------------------------------------------------------------\u001b[0m",
      "\u001b[1;31mNameError\u001b[0m                                 Traceback (most recent call last)",
      "Cell \u001b[1;32mIn[4], line 1\u001b[0m\n\u001b[1;32m----> 1\u001b[0m \u001b[43max\u001b[49m\u001b[38;5;241m.\u001b[39mset_axis_off()\n\u001b[0;32m      2\u001b[0m plt\u001b[38;5;241m.\u001b[39msubplots_adjust(left\u001b[38;5;241m=\u001b[39m\u001b[38;5;241m0\u001b[39m, right\u001b[38;5;241m=\u001b[39m\u001b[38;5;241m1\u001b[39m, top\u001b[38;5;241m=\u001b[39m\u001b[38;5;241m1\u001b[39m, bottom\u001b[38;5;241m=\u001b[39m\u001b[38;5;241m0\u001b[39m)\n\u001b[0;32m      3\u001b[0m plt\u001b[38;5;241m.\u001b[39mimshow(image_tensor\u001b[38;5;241m.\u001b[39mpermute(\u001b[38;5;241m1\u001b[39m, \u001b[38;5;241m2\u001b[39m, \u001b[38;5;241m0\u001b[39m))\n",
      "\u001b[1;31mNameError\u001b[0m: name 'ax' is not defined"
     ]
    }
   ],
   "source": [
    "ax.set_axis_off()\n",
    "plt.subplots_adjust(left=0, right=1, top=1, bottom=0)\n",
    "plt.imshow(image_tensor.permute(1, 2, 0))\n"
   ]
  },
  {
   "cell_type": "code",
   "execution_count": 2,
   "metadata": {},
   "outputs": [
    {
     "data": {
      "text/plain": [
       "1"
      ]
     },
     "execution_count": 2,
     "metadata": {},
     "output_type": "execute_result"
    }
   ],
   "source": [
    "u.count_directories_in_folder('datasets/imgs')\n"
   ]
  },
  {
   "cell_type": "code",
   "execution_count": 8,
   "metadata": {},
   "outputs": [
    {
     "ename": "TypeError",
     "evalue": "count_directories_in_folder() takes 1 positional argument but 2 were given",
     "output_type": "error",
     "traceback": [
      "\u001b[1;31m---------------------------------------------------------------------------\u001b[0m",
      "\u001b[1;31mTypeError\u001b[0m                                 Traceback (most recent call last)",
      "Cell \u001b[1;32mIn[8], line 2\u001b[0m\n\u001b[0;32m      1\u001b[0m path \u001b[38;5;241m=\u001b[39m \u001b[38;5;124m'\u001b[39m\u001b[38;5;124m./datasets/\u001b[39m\u001b[38;5;124m'\u001b[39m\n\u001b[1;32m----> 2\u001b[0m \u001b[43mu\u001b[49m\u001b[38;5;241;43m.\u001b[39;49m\u001b[43mcount_directories_in_folder\u001b[49m\u001b[43m(\u001b[49m\u001b[38;5;241;43m2\u001b[39;49m\u001b[43m,\u001b[49m\u001b[43m \u001b[49m\u001b[43mpath\u001b[49m\u001b[43m)\u001b[49m\n",
      "\u001b[1;31mTypeError\u001b[0m: count_directories_in_folder() takes 1 positional argument but 2 were given"
     ]
    }
   ],
   "source": [
    "path = './datasets/'\n",
    "u.count_directories_in_folder(2, path)"
   ]
  },
  {
   "cell_type": "code",
   "execution_count": null,
   "metadata": {},
   "outputs": [],
   "source": []
  }
 ],
 "metadata": {
  "kernelspec": {
   "display_name": "qdarts",
   "language": "python",
   "name": "python3"
  },
  "language_info": {
   "codemirror_mode": {
    "name": "ipython",
    "version": 3
   },
   "file_extension": ".py",
   "mimetype": "text/x-python",
   "name": "python",
   "nbconvert_exporter": "python",
   "pygments_lexer": "ipython3",
   "version": "3.9.19"
  }
 },
 "nbformat": 4,
 "nbformat_minor": 2
}
